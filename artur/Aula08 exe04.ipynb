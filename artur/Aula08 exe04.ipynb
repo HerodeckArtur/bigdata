{
 "cells": [
  {
   "cell_type": "markdown",
   "metadata": {},
   "source": [
    "### Exercício 04 \n",
    "### Crie um dataframe utilizando o arquivo dados-vendas.xlsx. Crie dataframes para dividir a planilha em 4 partes"
   ]
  },
  {
   "cell_type": "code",
   "execution_count": null,
   "metadata": {},
   "outputs": [],
   "source": [
    "# Importando o documento\n",
    "import pandas as pd\n",
    "\n",
    "# Mapear caminho\n",
    "caminho = './Arquivos/dados-vendas.xlsx'\n",
    "\n",
    "# Criar um dataframe com os dados\n",
    "df = pd.read_excel(caminho)\n",
    "\n",
    "df.head(2)"
   ]
  },
  {
   "cell_type": "markdown",
   "metadata": {},
   "source": [
    "### Dividir o dataframe em 4 tabelas\n",
    "tabela fato\n",
    "\n",
    "dimensão produto\n",
    "\n",
    "dimensão vendedor\n",
    "\n",
    "dimensão loja"
   ]
  },
  {
   "cell_type": "code",
   "execution_count": null,
   "metadata": {},
   "outputs": [],
   "source": [
    "# importando a biblioteca OS\n",
    "import os\n",
    "\n",
    "# Criando uma pasta no diretório atual\n",
    "os.mkdir('./relatorios-exe5')"
   ]
  },
  {
   "cell_type": "code",
   "execution_count": null,
   "metadata": {},
   "outputs": [],
   "source": [
    "# Criando a tabela fato em função do dataframe original\n",
    "\n",
    "tabela_fato = df.loc[:,['ID-Produto','Loja','ID-Vendedor','Data Venda','ValorVenda']]\n",
    "\n",
    "tabela_fato = tabela_fato.rename(columns={'Loja':'ID-Loja'})\n",
    "print(tabela_fato)\n",
    "\n",
    "tabela_fato.to_excel('./relatorios-exe5/tabelafato.xlsx')"
   ]
  },
  {
   "cell_type": "code",
   "execution_count": null,
   "metadata": {},
   "outputs": [],
   "source": [
    "tabela_produto = df.loc[:,['ID-Produto','Produto','Categoria','Segmento','Fabricante']]\n",
    "print(tabela_produto)\n",
    "\n",
    "tabela_produto.to_excel('./relatorios-exe5/tabelaproduto.xlsx')"
   ]
  },
  {
   "cell_type": "code",
   "execution_count": null,
   "metadata": {},
   "outputs": [],
   "source": [
    "tabela_lojas = df.loc[:,['Loja','Estado','Cidade']]\n",
    "tabela_lojas.duplicated().sum()\n",
    "tabela_lojas.drop_duplicates()\n",
    "\n",
    "print(tabela_lojas)\n",
    "\n",
    "tabela_lojas.to_excel('./relatorios-exe5/tabelalojas.xlsx')"
   ]
  },
  {
   "cell_type": "code",
   "execution_count": null,
   "metadata": {},
   "outputs": [],
   "source": [
    "tabela_vendedor = df.loc[:,['ID-Vendedor','Vendedor']]\n",
    "tabela_vendedor.duplicated().sum()\n",
    "tabela_vendedor.drop_duplicates()\n",
    "\n",
    "print(tabela_vendedor)\n",
    "\n",
    "tabela_vendedor.to_excel('./relatorios-exe5/tabelavendedor.xlsx')"
   ]
  },
  {
   "cell_type": "code",
   "execution_count": 39,
   "metadata": {},
   "outputs": [
    {
     "data": {
      "text/html": [
       "<div>\n",
       "<style scoped>\n",
       "    .dataframe tbody tr th:only-of-type {\n",
       "        vertical-align: middle;\n",
       "    }\n",
       "\n",
       "    .dataframe tbody tr th {\n",
       "        vertical-align: top;\n",
       "    }\n",
       "\n",
       "    .dataframe thead th {\n",
       "        text-align: right;\n",
       "    }\n",
       "</style>\n",
       "<table border=\"1\" class=\"dataframe\">\n",
       "  <thead>\n",
       "    <tr style=\"text-align: right;\">\n",
       "      <th></th>\n",
       "      <th>ID-Produto</th>\n",
       "      <th>Produto</th>\n",
       "      <th>Categoria</th>\n",
       "      <th>Segmento</th>\n",
       "      <th>Fabricante</th>\n",
       "      <th>Loja</th>\n",
       "      <th>Cidade</th>\n",
       "      <th>Estado</th>\n",
       "      <th>Vendedor</th>\n",
       "      <th>ID-Vendedor</th>\n",
       "      <th>Data Venda</th>\n",
       "      <th>ValorVenda</th>\n",
       "    </tr>\n",
       "  </thead>\n",
       "  <tbody>\n",
       "    <tr>\n",
       "      <th>0</th>\n",
       "      <td>SKU-0000001</td>\n",
       "      <td>LG K10 TV Power</td>\n",
       "      <td>Celulares</td>\n",
       "      <td>Corporativo</td>\n",
       "      <td>LG</td>\n",
       "      <td>SP8821</td>\n",
       "      <td>São Paulo</td>\n",
       "      <td>São Paulo</td>\n",
       "      <td>Ana Teixeira</td>\n",
       "      <td>1009</td>\n",
       "      <td>2012-10-04</td>\n",
       "      <td>679.0</td>\n",
       "    </tr>\n",
       "  </tbody>\n",
       "</table>\n",
       "</div>"
      ],
      "text/plain": [
       "    ID-Produto          Produto  Categoria     Segmento Fabricante    Loja  \\\n",
       "0  SKU-0000001  LG K10 TV Power  Celulares  Corporativo         LG  SP8821   \n",
       "\n",
       "      Cidade     Estado      Vendedor  ID-Vendedor Data Venda  ValorVenda  \n",
       "0  São Paulo  São Paulo  Ana Teixeira         1009 2012-10-04       679.0  "
      ]
     },
     "execution_count": 39,
     "metadata": {},
     "output_type": "execute_result"
    }
   ],
   "source": [
    "df.head(1)"
   ]
  },
  {
   "cell_type": "markdown",
   "metadata": {},
   "source": [
    "### Gerar relatório por vendedor"
   ]
  },
  {
   "cell_type": "code",
   "execution_count": null,
   "metadata": {},
   "outputs": [],
   "source": [
    "# 1º Criar uma pasta para salvar os relatórios por vendedor\n",
    "os.mkdir('./relatorios-exe5/vendedores')\n",
    "\n",
    "# 2º Selecionar a coluna vendedor no dataframe e remover as duplicadas\n",
    "\n",
    "df_vendedores = df['Vendedor'].drop_duplicates()\n",
    "\n",
    "# 3º Converter o dataframe df_vendedores em lista\n",
    "\n",
    "vendedores = df_vendedores.to_list()\n",
    "\n",
    "# 4º Estruturar a repetição para filtrar o dataframe\n",
    "\n",
    "for vendedor in vendedores:\n",
    "    print(vendedor)\n",
    "    df_final = df[df['Vendedor'] == 'vendedor']\n",
    "    df_final.to_excel('./relatorios-exe5/vendedores/' + vendedor + '.xlsx')\n"
   ]
  },
  {
   "cell_type": "code",
   "execution_count": null,
   "metadata": {},
   "outputs": [],
   "source": [
    "os.mkdir('./relatorios-exe5/categoria')\n",
    "\n",
    "df_categorias = df['Categoria'].drop_duplicates()\n",
    "\n",
    "categorias = df_categorias.to_list()\n",
    "\n",
    "for categoria in categorias:\n",
    "    print(categoria)\n",
    "    df_finalCategoria = df[df['Categoria'] == 'categoria']\n",
    "    df_finalCategoria.to_excel('./relatorios-exe5/categoria/' + categoria + '.xlsx')"
   ]
  },
  {
   "cell_type": "code",
   "execution_count": 58,
   "metadata": {},
   "outputs": [],
   "source": [
    "os.mkdir('./relatorios-exe5/segmento')\n",
    "\n",
    "df_segmentos = df['Segmento'].drop_duplicates()\n",
    "\n",
    "segmentos = df_segmentos.to_list()\n",
    "\n",
    "for segmento in segmentos:\n",
    "    df_finalsegmentos = df[df['Segmento'] == 'segmento']\n",
    "    df_finalsegmentos.to_excel('./relatorios-exe5/segmento/' + segmento + '.xlsx')"
   ]
  }
 ],
 "metadata": {
  "kernelspec": {
   "display_name": "Python 3",
   "language": "python",
   "name": "python3"
  },
  "language_info": {
   "codemirror_mode": {
    "name": "ipython",
    "version": 3
   },
   "file_extension": ".py",
   "mimetype": "text/x-python",
   "name": "python",
   "nbconvert_exporter": "python",
   "pygments_lexer": "ipython3",
   "version": "3.11.0"
  }
 },
 "nbformat": 4,
 "nbformat_minor": 2
}
