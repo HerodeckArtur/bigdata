{
 "cells": [
  {
   "cell_type": "markdown",
   "metadata": {},
   "source": [
    "### Exercício 01 – Manipulando dataframes com Pandas.\n",
    "a) Abra o arquivo world_happiness_report_2015.csv e o aloque em um dataframe.\n",
    "b) Verifique o cabeçalho e o final do dataframe.\n",
    "c) Quais as colunas desse dataframe?\n",
    "d) Quais os tipos de dados temos no dataframe?\n",
    "e) Há valores faltantes ou nulos? Em quais colunas?\n",
    "f) Renomeie as variáveis como segue:\n",
    "\n",
    "g) Quais os valores médios de expect_vida? E o valor mediano? E o máximo da\n",
    "variável PIB?"
   ]
  },
  {
   "cell_type": "code",
   "execution_count": null,
   "metadata": {},
   "outputs": [],
   "source": [
    "#!pip install pandas\n",
    "\n",
    "import pandas as pd\n",
    "\n",
    "df = pd.read_csv(\"C:\\\\\\\\\\\\\\\\Users\\\\\\\\\\\\\\\\FIC\\\\\\\\\\\\\\\\Documents\\\\\\\\\\\\\\\\ArturHerodeck-python\\\\\\\\\\\\\\\\Arquivos\\\\\\\\\\\\\\\\world_happiness_report_2015.csv\")\n"
   ]
  },
  {
   "cell_type": "code",
   "execution_count": null,
   "metadata": {},
   "outputs": [],
   "source": [
    "df.head()"
   ]
  },
  {
   "cell_type": "code",
   "execution_count": null,
   "metadata": {},
   "outputs": [],
   "source": [
    "df.tail()"
   ]
  },
  {
   "cell_type": "code",
   "execution_count": null,
   "metadata": {},
   "outputs": [],
   "source": [
    "df.info()"
   ]
  },
  {
   "cell_type": "code",
   "execution_count": null,
   "metadata": {},
   "outputs": [],
   "source": [
    "df.describe()\n"
   ]
  },
  {
   "cell_type": "code",
   "execution_count": null,
   "metadata": {},
   "outputs": [],
   "source": [
    "df = df.rename(columns={\n",
    "    'happiness rank':'rank_felicidade',\n",
    "    'happiness score':'score_felicidade',\n",
    "    'standard error':'stan_erro',\n",
    "    'economy (GDP per Capita)':'PIB',\n",
    "    'health (Life Expectancy)':'expect_vida',\n",
    "    'trust (Government Corruption)':'corrupcao'\n",
    "})"
   ]
  },
  {
   "cell_type": "markdown",
   "metadata": {},
   "source": [
    "### Exercício 02 – Manipulando dados com Pandas\n",
    "a) Crie um programa em pandas para ler o arquivo em Excel imobiliária.xlsx\n",
    "b) e coloque em um dataframe.\n",
    "c) Visualize o cabeçalho dos dados;\n",
    "d) Visualize as últimas linhas;\n",
    "e) Escreva um programa para renomear o cabeçalho da tabela com os\n",
    "f) seguintes nomes:\n",
    "\n",
    "Página | 2\n",
    "\n",
    "g) 5. Quais são os tipos de dados que temos no dataframe?\n",
    "h) 6. Há valores faltantes ou nulos?\n",
    "i) 7. Calcule a soma, média, máximo, mínimo e contagem da coluna Preço.\n",
    "j) 8. Crie um programa para criar um dataframe para mostrar as vendas por\n",
    "k) região, e salvar um arquivo em Excel para cada região.\n",
    "▪ Centro\n",
    "▪ Noroeste\n",
    "▪ Norte\n",
    "▪ Sudeste\n",
    "▪ Oeste\n",
    "▪ Leste\n",
    "▪ Sudoeste\n",
    "▪ Sul\n",
    "▪ Nordeste\n",
    "l) Gere um arquivo em Excel para representar as vendas efetuadas pela filial norte\n",
    "em 2010.\n",
    "m) Gere um arquivo em Excel para representar as vendas efetuadas pela filial\n",
    "Sudeste em 2010. Sendo que no relatório deve conter apenas vendas de casas\n",
    "sem garagem.\n",
    "n) Qual o valor máximo de comissão que a imobiliária numa venda?\n",
    "o) Quantas casas de 2 ou 3 dormitórios foram vendidas pelo Ricardo antes de 2011."
   ]
  },
  {
   "cell_type": "code",
   "execution_count": null,
   "metadata": {},
   "outputs": [],
   "source": [
    "import pandas as pd\n",
    "\n",
    "df = pd.read_excel(\"C:\\\\\\\\Users\\\\\\\\FIC\\\\\\\\Documents\\\\\\\\ArturHerodeck-python\\\\\\\\Arquivos\\\\\\\\Imobiliária.xlsx\")\n",
    "\n",
    "df.head(3)"
   ]
  },
  {
   "cell_type": "code",
   "execution_count": null,
   "metadata": {},
   "outputs": [],
   "source": [
    "df.tail(3)"
   ]
  },
  {
   "cell_type": "code",
   "execution_count": null,
   "metadata": {},
   "outputs": [],
   "source": [
    "# Renomear todas as colunas\n",
    "# df.columns = [novos nomes,] --> a quantidade tem que ser exata nomes e colunas\n",
    "\n",
    "df = df.rename(columns={\n",
    "    'Coluna 1': 'Filial',\n",
    "    'Coluna 2': 'Vendedor',\n",
    "    'Coluna 3': 'Data',\n",
    "    'Coluna 4': 'Tipo',\n",
    "    'Coluna 5': 'Àrea m2',\n",
    "    'Coluna 6': 'Dorms.',\n",
    "    'Coluna 7': 'Garag.',\n",
    "    'Coluna 8': 'Piscina',\n",
    "    'Coluna 8.1': 'Preço',\n",
    "    'Coluna 10': 'Comissão'\n",
    "})"
   ]
  },
  {
   "cell_type": "code",
   "execution_count": null,
   "metadata": {},
   "outputs": [],
   "source": [
    "df.head(3)"
   ]
  },
  {
   "cell_type": "code",
   "execution_count": null,
   "metadata": {},
   "outputs": [],
   "source": [
    "df.info()"
   ]
  },
  {
   "cell_type": "code",
   "execution_count": null,
   "metadata": {},
   "outputs": [],
   "source": [
    "df.describe()"
   ]
  },
  {
   "cell_type": "code",
   "execution_count": null,
   "metadata": {},
   "outputs": [],
   "source": [
    "# Calculando a soma da coluna Preço\n",
    "df['Preço'].sum()\n",
    "\n",
    "# Calculando a média da coluna Preço\n",
    "df['Preço'].mean()\n",
    "\n",
    "# Calculando o maior valor da coluna Preço\n",
    "df['Preço'].max()\n",
    "\n",
    "# Calculando o menor valor da coluna Preço\n",
    "df['Preço'].min()\n",
    "\n",
    "# Calculando a contagem da coluna Preço\n",
    "df['Preço'].count()"
   ]
  },
  {
   "cell_type": "code",
   "execution_count": null,
   "metadata": {},
   "outputs": [],
   "source": [
    "# Criar um arquivo por região\n",
    "\n",
    "# Gerar um relatório de vendas da região CENTRO\n",
    "\n",
    "# Filtrar os dados\n",
    "\n",
    "df_final = df[df['Filial'] == 'Centro']\n",
    "\n",
    "# Mapear o caminho final e definir um nome para o arquivo\n",
    "\n",
    "caminho = 'C:\\\\Users\\\\FIC\\\\Documents\\\\ArturHerodeck-python\\\\Relatórios Filiais\\\\'\n",
    "arquivo = 'centro.xlsx'\n",
    "\n",
    "# Salvar o arquivo na pasta\n",
    "\n",
    "df_final.to_excel(caminho + arquivo)\n"
   ]
  },
  {
   "cell_type": "code",
   "execution_count": null,
   "metadata": {},
   "outputs": [],
   "source": [
    "df_final1 = df[df['Filial'] == 'Noroeste']\n",
    "df_final2 = df[df['Filial'] == 'Norte']\n",
    "df_final3 = df[df['Filial'] == 'Sudeste']\n",
    "df_final4 = df[df['Filial'] == 'Oeste']\n",
    "df_final5 = df[df['Filial'] == 'Leste']\n",
    "df_final6 = df[df['Filial'] == 'Sudoeste']\n",
    "df_final7 = df[df['Filial'] == 'Sul']\n",
    "df_final8 = df[df['Filial'] == 'Nordeste']\n",
    "\n",
    "arquivo1 = 'Noroeste.xlsx'\n",
    "arquivo2 = 'Norte.xlsx'\n",
    "arquivo3 = 'Sudeste.xlsx'\n",
    "arquivo4 = 'Oeste.xlsx'\n",
    "arquivo5 = 'Leste.xlsx'\n",
    "arquivo6 = 'Sudoeste.xlsx'\n",
    "arquivo7 = 'Sul.xlsx'\n",
    "arquivo8 = 'Nordeste.xlsx'\n",
    "\n",
    "df_final1.to_excel(caminho + arquivo1)\n",
    "df_final2.to_excel(caminho + arquivo2, index=False) #index=False ---> Remove o index automático da sua tabela exportada\n",
    "df_final3.to_excel(caminho + arquivo3)\n",
    "df_final4.to_excel(caminho + arquivo4)\n",
    "df_final5.to_excel(caminho + arquivo5)\n",
    "df_final6.to_excel(caminho + arquivo6)\n",
    "df_final7.to_excel(caminho + arquivo7)\n",
    "df_final8.to_excel(caminho + arquivo8)\n",
    "\n"
   ]
  },
  {
   "cell_type": "markdown",
   "metadata": {},
   "source": [
    "### l) Gere um arquivo em Excel para representar as vendas efetuadas pela filial norte\n",
    "### em 2010."
   ]
  },
  {
   "cell_type": "code",
   "execution_count": null,
   "metadata": {},
   "outputs": [],
   "source": [
    "df_finalVendas = df[(df['Filial']=='Norte')&(df['Data']>='2010-01-01')&(df['Data']<='2010-12-31')]\n",
    "\n",
    "caminho = 'C:\\\\Users\\\\FIC\\\\Documents\\\\ArturHerodeck-python\\\\Relatórios Filiais\\\\'\n",
    "arquivoNorte = 'NorteVendas2010.xlsx'\n",
    "\n",
    "# Salvar o arquivo na pasta\n",
    "\n",
    "df_finalVendas.to_excel(caminho + arquivoNorte)\n"
   ]
  },
  {
   "cell_type": "markdown",
   "metadata": {},
   "source": [
    "### m) Gere um arquivo em Excel para representar as vendas efetuadas pela filial\n",
    "### Sudeste em 2010. Sendo que no relatório deve conter apenas vendas de casas\n",
    "### sem garagem."
   ]
  },
  {
   "cell_type": "code",
   "execution_count": null,
   "metadata": {},
   "outputs": [],
   "source": [
    "df.head(2)"
   ]
  },
  {
   "cell_type": "code",
   "execution_count": null,
   "metadata": {},
   "outputs": [],
   "source": [
    "df_finalSudeste = df[(df['Filial']=='Sudeste')&(df['Data']>='2010-01-01')&(df['Data']<='2010-12-31')&(df['Garag.'] == 0)&(df['Tipo']=='Casa')]\n",
    "\n",
    "caminho = 'C:\\\\Users\\\\FIC\\\\Documents\\\\ArturHerodeck-python\\\\Relatórios Filiais\\\\'\n",
    "arquivoFinalSudeste = 'SudesteSemGaragem2010.xlsx'\n",
    "\n",
    "# Salvar o arquivo na pasta\n",
    "\n",
    "df_finalSudeste.to_excel(caminho + arquivoFinalSudeste)"
   ]
  },
  {
   "cell_type": "code",
   "execution_count": null,
   "metadata": {},
   "outputs": [],
   "source": [
    "df.info()"
   ]
  },
  {
   "cell_type": "markdown",
   "metadata": {},
   "source": [
    "### n) Qual o valor máximo de comissão que a imobiliária numa venda?"
   ]
  },
  {
   "cell_type": "code",
   "execution_count": null,
   "metadata": {},
   "outputs": [],
   "source": [
    "# Este código vai filtrar a tabela\n",
    "# Considerando o maior valor de comissão pago\n",
    "# Pela imobiliária, por meio da função max()\n",
    "\n",
    "df[df['Comissão']==df['Comissão'].max()]\n",
    "\n"
   ]
  },
  {
   "cell_type": "markdown",
   "metadata": {},
   "source": [
    "### o) Quantas casas de 2 ou 3 dormitórios foram vendidas pelo Ricardo antes de 2011."
   ]
  },
  {
   "cell_type": "code",
   "execution_count": null,
   "metadata": {},
   "outputs": [],
   "source": [
    "df[(df['Vendedor']=='Ricardo')&(df['Data']<'2011-01-01')&(df['Tipo']=='Casa')&((df['Dorms.']==2)|(df['Dorms.']==3))]\n"
   ]
  }
 ],
 "metadata": {
  "kernelspec": {
   "display_name": "Python 3",
   "language": "python",
   "name": "python3"
  },
  "language_info": {
   "codemirror_mode": {
    "name": "ipython",
    "version": 3
   },
   "file_extension": ".py",
   "mimetype": "text/x-python",
   "name": "python",
   "nbconvert_exporter": "python",
   "pygments_lexer": "ipython3",
   "version": "3.11.0"
  }
 },
 "nbformat": 4,
 "nbformat_minor": 2
}
