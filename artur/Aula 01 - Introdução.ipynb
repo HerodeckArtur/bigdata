{
 "cells": [
  {
   "cell_type": "code",
   "execution_count": 2,
   "metadata": {},
   "outputs": [
    {
     "name": "stdout",
     "output_type": "stream",
     "text": [
      "26\n"
     ]
    }
   ],
   "source": [
    "nume1 = 12\n",
    "nume2 = 14\n",
    "\n",
    "soma = nume1 + nume2\n",
    "\n",
    "print(soma)"
   ]
  },
  {
   "cell_type": "code",
   "execution_count": 12,
   "metadata": {},
   "outputs": [
    {
     "name": "stdout",
     "output_type": "stream",
     "text": [
      "2000.0\n"
     ]
    }
   ],
   "source": [
    "metros = input(\"Informe o valor em metros\")\n",
    "metros = float(metros)\n",
    "centimetros = metros * 100\n",
    "\n",
    "print(centimetros)"
   ]
  },
  {
   "cell_type": "code",
   "execution_count": 19,
   "metadata": {},
   "outputs": [
    {
     "name": "stdout",
     "output_type": "stream",
     "text": [
      "o raio de um circulo é 12.56\n"
     ]
    }
   ],
   "source": [
    "raio = input(\"informe o raio\")\n",
    "raio = float(raio)\n",
    "area1 = 3.14 * raio ** 2\n",
    "\n",
    "print(f\"o raio de um circulo é {area1}\")"
   ]
  },
  {
   "cell_type": "code",
   "execution_count": 26,
   "metadata": {},
   "outputs": [
    {
     "name": "stdout",
     "output_type": "stream",
     "text": [
      "o raio de um circulo é 12.566370614359172\n"
     ]
    }
   ],
   "source": [
    "# carregar a biblioteca para utilizar o valor do PI completo\n",
    "import numpy as np\n",
    "\n",
    "pi = np.pi\n",
    "\n",
    "raio = input(\"informe o raio\")\n",
    "raio = float(raio)\n",
    "area1 = pi * raio ** 2\n",
    "\n",
    "print(f\"o raio de um circulo é {area1}\")\n"
   ]
  },
  {
   "cell_type": "code",
   "execution_count": 17,
   "metadata": {},
   "outputs": [
    {
     "name": "stdout",
     "output_type": "stream",
     "text": [
      "9.0\n"
     ]
    }
   ],
   "source": [
    "lado1 = input(\"informe o primeiro lado\")\n",
    "lado1 = float(lado1)\n",
    "\n",
    "lado2 = input(\"informe o segundo lado\")\n",
    "lado2 = float(lado2)\n",
    "\n",
    "area = lado1 * lado2\n",
    "\n",
    "print(area)"
   ]
  },
  {
   "cell_type": "code",
   "execution_count": 22,
   "metadata": {},
   "outputs": [],
   "source": [
    "celsius = input(float())\n",
    "\n"
   ]
  },
  {
   "cell_type": "code",
   "execution_count": 24,
   "metadata": {},
   "outputs": [
    {
     "data": {
      "text/plain": [
       "3.141592653589793"
      ]
     },
     "execution_count": 24,
     "metadata": {},
     "output_type": "execute_result"
    }
   ],
   "source": [
    "# carregar a biblioteca para utilizar o valor do PI completo\n",
    "import numpy as np\n",
    "\n",
    "np.pi"
   ]
  },
  {
   "cell_type": "code",
   "execution_count": null,
   "metadata": {},
   "outputs": [],
   "source": []
  }
 ],
 "metadata": {
  "kernelspec": {
   "display_name": "Python 3",
   "language": "python",
   "name": "python3"
  },
  "language_info": {
   "codemirror_mode": {
    "name": "ipython",
    "version": 3
   },
   "file_extension": ".py",
   "mimetype": "text/x-python",
   "name": "python",
   "nbconvert_exporter": "python",
   "pygments_lexer": "ipython3",
   "version": "3.11.0"
  }
 },
 "nbformat": 4,
 "nbformat_minor": 2
}
