{
 "cells": [
  {
   "cell_type": "code",
   "execution_count": 73,
   "metadata": {},
   "outputs": [],
   "source": [
    "import pandas as pd\n",
    "import matplotlib.pyplot as plt \n",
    "import seaborn as sns\n",
    "\n",
    "caminhoArquivo = ('./Arquivos/dados-satisfação.xlsx')\n",
    "df = pd.read_excel(caminhoArquivo, sheet_name='treino')\n",
    "\n",
    "\n",
    "df['Elogio a Instituição'] = df['Elogio a Instituição'].replace('SIM',1)\n",
    "df['Elogio a Instituição'] = df['Elogio a Instituição'].replace('NÃO',0)\n",
    "df['Elogio quanto ao app'] = df['Elogio quanto ao app'].replace('SIM',1)\n",
    "df['Elogio quanto ao app'] = df['Elogio quanto ao app'].replace('NÃO',0)\n",
    "df['Elogio quanto ao app'] = df['Elogio quanto ao app'].replace('NAO',0)\n",
    "df['Reclamação quanto ao app'] = df['Reclamação quanto ao app'].replace('SIM',1)\n",
    "df['Reclamação quanto ao app'] = df['Reclamação quanto ao app'].replace('NÃO',0)\n",
    "df['Reclamação a Instituição'] = df['Reclamação a Instituição'].replace('SIM',1)\n",
    "df['Reclamação a Instituição'] = df['Reclamação a Instituição'].replace('NÃO',0)\n",
    "df['Não Classificável'] = df['Não Classificável'].replace('SIM',1)\n",
    "df['Não Classificável'] = df['Não Classificável'].replace('NÃO',0)\n"
   ]
  },
  {
   "cell_type": "code",
   "execution_count": 74,
   "metadata": {},
   "outputs": [
    {
     "data": {
      "text/plain": [
       "0     1\n",
       "13    0\n",
       "Name: Elogio quanto ao app, dtype: int64"
      ]
     },
     "execution_count": 74,
     "metadata": {},
     "output_type": "execute_result"
    }
   ],
   "source": [
    "df['Elogio quanto ao app'].drop_duplicates()"
   ]
  },
  {
   "cell_type": "code",
   "execution_count": 75,
   "metadata": {},
   "outputs": [
    {
     "name": "stdout",
     "output_type": "stream",
     "text": [
      "<class 'pandas.core.frame.DataFrame'>\n",
      "RangeIndex: 8702 entries, 0 to 8701\n",
      "Data columns (total 9 columns):\n",
      " #   Column                    Non-Null Count  Dtype         \n",
      "---  ------                    --------------  -----         \n",
      " 0   Instituição               8702 non-null   object        \n",
      " 1   Comentario                8698 non-null   object        \n",
      " 2   Data                      8702 non-null   datetime64[ns]\n",
      " 3   Classificação             8702 non-null   int64         \n",
      " 4   Elogio quanto ao app      8702 non-null   int32         \n",
      " 5   Reclamação quanto ao app  8702 non-null   int64         \n",
      " 6   Elogio a Instituição      8702 non-null   int32         \n",
      " 7   Reclamação a Instituição  8702 non-null   int64         \n",
      " 8   Não Classificável         8702 non-null   int64         \n",
      "dtypes: datetime64[ns](1), int32(2), int64(4), object(2)\n",
      "memory usage: 544.0+ KB\n"
     ]
    }
   ],
   "source": [
    "\n",
    "\n",
    "# Converter os dados para números\n",
    "df['Elogio a Instituição'] = df['Elogio a Instituição'].astype(int)\n",
    "df['Elogio quanto ao app'] = df['Elogio quanto ao app'].astype(int)\n",
    "df.info()"
   ]
  },
  {
   "cell_type": "code",
   "execution_count": 76,
   "metadata": {},
   "outputs": [],
   "source": [
    "# Substituir os valores antigos pelo novo\n",
    "df['Classificação'] = df['Classificação'].replace(2,-1)\n",
    "df['Classificação'] = df['Classificação'].replace(1,-1)\n",
    "df['Classificação'] = df['Classificação'].replace(5,1)\n",
    "df['Classificação'] = df['Classificação'].replace(4,1)\n",
    "df['Classificação'] = df['Classificação'].replace(3,0)"
   ]
  },
  {
   "cell_type": "code",
   "execution_count": 77,
   "metadata": {},
   "outputs": [
    {
     "data": {
      "text/html": [
       "<div>\n",
       "<style scoped>\n",
       "    .dataframe tbody tr th:only-of-type {\n",
       "        vertical-align: middle;\n",
       "    }\n",
       "\n",
       "    .dataframe tbody tr th {\n",
       "        vertical-align: top;\n",
       "    }\n",
       "\n",
       "    .dataframe thead th {\n",
       "        text-align: right;\n",
       "    }\n",
       "</style>\n",
       "<table border=\"1\" class=\"dataframe\">\n",
       "  <thead>\n",
       "    <tr style=\"text-align: right;\">\n",
       "      <th></th>\n",
       "      <th>Instituição</th>\n",
       "      <th>Classificação</th>\n",
       "    </tr>\n",
       "  </thead>\n",
       "  <tbody>\n",
       "    <tr>\n",
       "      <th>0</th>\n",
       "      <td>Banco Bradesco</td>\n",
       "      <td>68.236646</td>\n",
       "    </tr>\n",
       "    <tr>\n",
       "      <th>1</th>\n",
       "      <td>Banco Itau</td>\n",
       "      <td>56.954023</td>\n",
       "    </tr>\n",
       "    <tr>\n",
       "      <th>2</th>\n",
       "      <td>Banco do Brasil</td>\n",
       "      <td>78.160920</td>\n",
       "    </tr>\n",
       "    <tr>\n",
       "      <th>3</th>\n",
       "      <td>Caixa Econômica Federal</td>\n",
       "      <td>42.413793</td>\n",
       "    </tr>\n",
       "    <tr>\n",
       "      <th>4</th>\n",
       "      <td>Nubank</td>\n",
       "      <td>58.529581</td>\n",
       "    </tr>\n",
       "  </tbody>\n",
       "</table>\n",
       "</div>"
      ],
      "text/plain": [
       "               Instituição  Classificação\n",
       "0           Banco Bradesco      68.236646\n",
       "1               Banco Itau      56.954023\n",
       "2          Banco do Brasil      78.160920\n",
       "3  Caixa Econômica Federal      42.413793\n",
       "4                   Nubank      58.529581"
      ]
     },
     "execution_count": 77,
     "metadata": {},
     "output_type": "execute_result"
    }
   ],
   "source": [
    "# Criando um dataframe\n",
    "# Calcular a média de classificação por  instituição\n",
    "df_classificacao = df.groupby(['Instituição'])['Classificação'].agg('mean').reset_index()\n",
    "df_classificacao['Classificação'] = df_classificacao['Classificação'] *100\n",
    "df_classificacao"
   ]
  },
  {
   "cell_type": "code",
   "execution_count": 78,
   "metadata": {},
   "outputs": [],
   "source": [
    "# Multiplicando os valores da coluna por 100\n",
    "# df_classificacao = (df_classificacao * 100)\n",
    "# df_classificacao\n"
   ]
  },
  {
   "cell_type": "code",
   "execution_count": 79,
   "metadata": {},
   "outputs": [
    {
     "name": "stderr",
     "output_type": "stream",
     "text": [
      "c:\\Python311\\Lib\\site-packages\\seaborn\\_oldcore.py:1498: FutureWarning: is_categorical_dtype is deprecated and will be removed in a future version. Use isinstance(dtype, CategoricalDtype) instead\n",
      "  if pd.api.types.is_categorical_dtype(vector):\n",
      "c:\\Python311\\Lib\\site-packages\\seaborn\\_oldcore.py:1498: FutureWarning: is_categorical_dtype is deprecated and will be removed in a future version. Use isinstance(dtype, CategoricalDtype) instead\n",
      "  if pd.api.types.is_categorical_dtype(vector):\n",
      "c:\\Python311\\Lib\\site-packages\\seaborn\\_oldcore.py:1498: FutureWarning: is_categorical_dtype is deprecated and will be removed in a future version. Use isinstance(dtype, CategoricalDtype) instead\n",
      "  if pd.api.types.is_categorical_dtype(vector):\n"
     ]
    },
    {
     "data": {
      "text/plain": [
       "<Axes: xlabel='Instituição', ylabel='Classificação'>"
      ]
     },
     "execution_count": 79,
     "metadata": {},
     "output_type": "execute_result"
    },
    {
     "data": {
      "image/png": "[encoded data removed]",
      "text/plain": [
       "<Figure size 640x480 with 1 Axes>"
      ]
     },
     "metadata": {},
     "output_type": "display_data"
    }
   ],
   "source": [
    "# Criando gráfico\n",
    "sns.barplot(x = df_classificacao['Instituição'], y = df_classificacao['Classificação'])\n"
   ]
  }
 ],
 "metadata": {
  "kernelspec": {
   "display_name": "Python 3",
   "language": "python",
   "name": "python3"
  },
  "language_info": {
   "codemirror_mode": {
    "name": "ipython",
    "version": 3
   },
   "file_extension": ".py",
   "mimetype": "text/x-python",
   "name": "python",
   "nbconvert_exporter": "python",
   "pygments_lexer": "ipython3",
   "version": "3.11.0"
  }
 },
 "nbformat": 4,
 "nbformat_minor": 2
}
