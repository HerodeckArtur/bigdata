{
 "cells": [
  {
   "cell_type": "markdown",
   "metadata": {},
   "source": [
    "Palavras Reservadas"
   ]
  },
  {
   "cell_type": "code",
   "execution_count": 1,
   "metadata": {},
   "outputs": [
    {
     "name": "stdout",
     "output_type": "stream",
     "text": [
      "['False', 'None', 'True', 'and', 'as', 'assert', 'async', 'await', 'break', 'class', 'continue', 'def', 'del', 'elif', 'else', 'except', 'finally', 'for', 'from', 'global', 'if', 'import', 'in', 'is', 'lambda', 'nonlocal', 'not', 'or', 'pass', 'raise', 'return', 'try', 'while', 'with', 'yield']\n"
     ]
    }
   ],
   "source": [
    "import keyword\n",
    "print(keyword.kwlist)"
   ]
  },
  {
   "cell_type": "code",
   "execution_count": 3,
   "metadata": {},
   "outputs": [
    {
     "name": "stdout",
     "output_type": "stream",
     "text": [
      "58\n"
     ]
    }
   ],
   "source": [
    "# erxercício 01\n",
    "num1 = 45\n",
    "num2 = 13\n",
    "\n",
    "soma = num1 + num2\n",
    "\n",
    "print(soma)"
   ]
  },
  {
   "cell_type": "code",
   "execution_count": 6,
   "metadata": {},
   "outputs": [
    {
     "name": "stdout",
     "output_type": "stream",
     "text": [
      "O resultado da subtração é 10.\n"
     ]
    }
   ],
   "source": [
    "# exercício 02\n",
    "num3 = 20\n",
    "num4 = 10\n",
    "\n",
    "diferenca = num3 - num4\n",
    "\n",
    "print(f'O resultado da subtração é {diferenca}.')"
   ]
  },
  {
   "cell_type": "code",
   "execution_count": 8,
   "metadata": {},
   "outputs": [
    {
     "name": "stdout",
     "output_type": "stream",
     "text": [
      "O resultado da multiplicação é 45!\n"
     ]
    }
   ],
   "source": [
    "# exercício 03\n",
    "dado1 = 15\n",
    "dado2 = 3\n",
    "\n",
    "mult = dado1 * dado2\n",
    "\n",
    "print(f'O resultado da multiplicação é {mult}!')\n",
    "      "
   ]
  },
  {
   "cell_type": "code",
   "execution_count": 31,
   "metadata": {},
   "outputs": [
    {
     "name": "stdout",
     "output_type": "stream",
     "text": [
      "<class 'float'>\n",
      "<class 'float'>\n",
      "O resultado da sua equação é --> 10.0\n"
     ]
    }
   ],
   "source": [
    "# Inserindo dados de entrada com o comando INPUT\n",
    "numero1 = input('Digite o primeiro valor.')\n",
    "numero2 = input('Digite o segundo valor.')\n",
    "\n",
    "# Convertendo os valores em decimais\n",
    "numero1 = float(numero1)\n",
    "numero2 = float(numero2)\n",
    "\n",
    "# Verificando o tipo de dado\n",
    "print(type(numero1))\n",
    "print(type(numero2))\n",
    "\n",
    "# Equação\n",
    "multi = numero1 * numero2\n",
    "\n",
    "print(f'O resultado da sua equação é --> {multi}')"
   ]
  },
  {
   "cell_type": "markdown",
   "metadata": {},
   "source": [
    "16- Faça um Programa que peça 2 números inteiros e um número real.\n",
    "Calcule e mostre:\n",
    "\n",
    "a) o produto do dobro do primeiro com metade do segundo.\n",
    "b) a soma do triplo do primeiro com o terceiro.\n",
    "c) o terceiro elevado ao cubo."
   ]
  },
  {
   "cell_type": "code",
   "execution_count": 37,
   "metadata": {},
   "outputs": [
    {
     "name": "stdout",
     "output_type": "stream",
     "text": [
      "100.0\n",
      "40.0\n",
      "1000.0\n"
     ]
    }
   ],
   "source": [
    "# exercício 16\n",
    "pnum = int(input('Informe o primeiro valor'))\n",
    "snum = int(input('Informe o segundo valor'))\n",
    "tnum = float(input('Informe o terceiro valor'))\n",
    "\n",
    "produto = (pnum * 2) * (snum / 2)\n",
    "soma = pnum * 3 + tnum\n",
    "tnume = tnum ** 3\n",
    "print(produto)\n",
    "print(soma)\n",
    "print(tnume)\n"
   ]
  },
  {
   "cell_type": "markdown",
   "metadata": {},
   "source": [
    "Exercício 17 - João Papo-de-Pescador, homem de bem, comprou um microcomputador\n",
    "para controlar o rendimento diário de seu trabalho. Toda vez que ele traz um peso de\n",
    "peixes maior que o estabelecido pelo regulamento de pesca do estado de São Paulo\n",
    "(50 quilos) deve pagar uma multa de R$ 4,00 por quilo excedente. João precisa que\n",
    "você faça um programa que leia a variável peso (peso de peixes) e calcule o excesso."
   ]
  },
  {
   "cell_type": "code",
   "execution_count": 50,
   "metadata": {},
   "outputs": [
    {
     "name": "stdout",
     "output_type": "stream",
     "text": [
      "O peso do peixe é 60.0\n",
      "O peso excedente é de 10.0Kg\n",
      "O valor da multa em reais é de R$40.0\n"
     ]
    }
   ],
   "source": [
    "# Exercício 17\n",
    "pesoLimite = float(50)\n",
    "peixe = float(input('informe o peso do peixe'))\n",
    "peso = peixe - pesoLimite\n",
    "multa = peso * 4\n",
    "print(f'O peso do peixe é {peixe}')\n",
    "print(f'O peso excedente é de {peso}Kg')\n",
    "print(f'O valor da multa em reais é de R${multa}')"
   ]
  },
  {
   "cell_type": "markdown",
   "metadata": {},
   "source": [
    "Exercício 18 - Faça um Programa que pergunte quanto você ganha por hora e o número\n",
    "de horas trabalhadas no mês. Calcule e mostre o total do seu salário no referido mês,\n",
    "sabendo-se que são descontados 11% para o Imposto de Renda, 8% para o INSS e 5%\n",
    "para o sindicato, faça um programa que nos dê:\n",
    "a) salário bruto.\n",
    "b) quanto pagou ao INSS.\n",
    "c) quanto pagou ao sindicato.\n",
    "d) o salário líquido.\n",
    "e) calcule os descontos e o salário líquido, conforme a tabela abaixo:\n",
    "+ Salário Bruto : R$\n",
    "- IR (11%) : R$\n",
    "- INSS (8%) : R$\n",
    "- Sindicato ( 5%) : R$\n",
    "= Salário Liquido : R$"
   ]
  },
  {
   "cell_type": "code",
   "execution_count": 62,
   "metadata": {},
   "outputs": [
    {
     "name": "stdout",
     "output_type": "stream",
     "text": [
      "+ Salário Bruto: R$8100.0\n",
      "- INSS (8%): R$648.0\n",
      "- IR (11%): R$891.0\n",
      "Sindicato (5%): R$ 405.0\n",
      "= Salário Líquido: R$ 6156.0\n"
     ]
    }
   ],
   "source": [
    "# Exercício 18\n",
    "salarioHora = float(input('Informe o salário por hora'))\n",
    "horasTrabalhadas = float(input('Quantas hora você trabalhou no mês'))\n",
    "salarioMes = salarioHora * horasTrabalhadas\n",
    "inss = salarioMes * 0.08\n",
    "ir = salarioMes * 0.11\n",
    "sindicato = salarioMes * 0.05\n",
    "salarioLiquido = salarioMes - inss - ir - sindicato\n",
    "\n",
    "print(f'+ Salário Bruto: R${salarioMes}')\n",
    "print(f'- INSS (8%): R${inss}')\n",
    "print(f'- IR (11%): R${ir}')\n",
    "print(f'Sindicato (5%): R$ {sindicato}')\n",
    "print(f'= Salário Líquido: R$ {salarioLiquido}')\n",
    "\n",
    "#exibir resultados igual ao enunciado\n",
    "\n",
    "\n"
   ]
  },
  {
   "cell_type": "markdown",
   "metadata": {},
   "source": [
    "Exercício 19 - Faça um programa para uma loja de tintas. O programa deverá pedir o\n",
    "tamanho em metros quadrados da área a ser pintada. Considere que a cobertura da\n",
    "tinta é de 1 litro para cada 3 metros quadrados e que a tinta é vendida em latas de 18\n",
    "litros, que custam R$ 80,00. Informe ao usuário a quantidades de latas de tinta a serem\n",
    "compradas e o preço total."
   ]
  },
  {
   "cell_type": "code",
   "execution_count": 68,
   "metadata": {},
   "outputs": [
    {
     "name": "stdout",
     "output_type": "stream",
     "text": [
      "A quantidade de latas necessário para o serviço é 1.0\n",
      "O valor total da tinta é R$80.0\n"
     ]
    }
   ],
   "source": [
    "# importar a biblioteca math para utilizar ceil //import math//\n",
    "#import math\n",
    "#math.ceil(0.2)\n",
    "\n",
    "largura = float(input('Informe a largura'))\n",
    "altura = float(input('Informe a altura'))\n",
    "areaPintura = largura * altura\n",
    "qtdLitros = areaPintura / 3\n",
    "lata = 18\n",
    "qtdLatas = qtdLitros / lata\n",
    "valorTotal = qtdLatas * 80\n",
    "\n",
    "# a função round é para fazer a config das casas decimais\n",
    "print(f'A quantidade de latas necessário para o serviço é {round(qtdLatas,2)}')\n",
    "print(f'O valor total da tinta é R${round(valorTotal,2)}')\n",
    "\n"
   ]
  },
  {
   "cell_type": "markdown",
   "metadata": {},
   "source": []
  }
 ],
 "metadata": {
  "kernelspec": {
   "display_name": "Python 3",
   "language": "python",
   "name": "python3"
  },
  "language_info": {
   "codemirror_mode": {
    "name": "ipython",
    "version": 3
   },
   "file_extension": ".py",
   "mimetype": "text/x-python",
   "name": "python",
   "nbconvert_exporter": "python",
   "pygments_lexer": "ipython3",
   "version": "3.11.0"
  }
 },
 "nbformat": 4,
 "nbformat_minor": 2
}
