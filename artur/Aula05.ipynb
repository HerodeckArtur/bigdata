{
 "cells": [
  {
   "cell_type": "markdown",
   "metadata": {},
   "source": [
    "### Loop FOR\n",
    "\n"
   ]
  },
  {
   "cell_type": "code",
   "execution_count": null,
   "metadata": {},
   "outputs": [],
   "source": [
    "frutas = ['Abacaxi', 'Abacate','Laranja']\n",
    "\n",
    "for fruta in frutas:\n",
    "    print(fruta)\n",
    "    "
   ]
  },
  {
   "cell_type": "markdown",
   "metadata": {},
   "source": [
    "### FOR CONDICIONAL (FOR+IF)"
   ]
  },
  {
   "cell_type": "code",
   "execution_count": null,
   "metadata": {},
   "outputs": [],
   "source": [
    "frutas = ['Abacaxi', 'Abacate','Laranja']\n",
    "\n",
    "for fruta in frutas:\n",
    "\n",
    "    if fruta.startswith('A'):\n",
    "        print(fruta)\n",
    "    "
   ]
  },
  {
   "cell_type": "markdown",
   "metadata": {},
   "source": [
    "### FOR ACUMULADOR"
   ]
  },
  {
   "cell_type": "code",
   "execution_count": null,
   "metadata": {},
   "outputs": [],
   "source": [
    "listaNumeros = [1,2,3,4,5,6,7,8,9,10]\n",
    "\n",
    "# Variável acumuladora\n",
    "soma = 0 \n",
    "for numero in listaNumeros:\n",
    "    soma = soma + numero\n",
    "    print(soma)\n",
    "\n",
    "# para dar o resultado final sem o caminho, retirar a indentação do print "
   ]
  },
  {
   "cell_type": "markdown",
   "metadata": {},
   "source": [
    "### Exercício 06 - Faça um programa que imprima na tela os números de 1 a 20, um abaixo\n",
    "do outro. Depois modifique o programa para que ele mostre os números um ao lado do\n",
    "outro."
   ]
  },
  {
   "cell_type": "code",
   "execution_count": null,
   "metadata": {},
   "outputs": [],
   "source": [
    "#x = range(1, 21)\n",
    "\n",
    "#for n in x:\n",
    "#    print(n)\n",
    "    \n",
    "#print(list(range(21)))\n",
    "\n",
    "# Segunda parte, informando resultado como lista\n",
    "\n",
    "numeros = range(1, 21) # Numeros vai ter um range de 20 numeros\n",
    "lista = [] # Criando lista vazia\n",
    "\n",
    "for x in numeros: # Para x in numeros:\n",
    "    lista.append(x) # Lista utilizando append(inclui dado numa lista)\n",
    "print(lista)\n"
   ]
  },
  {
   "cell_type": "markdown",
   "metadata": {},
   "source": [
    "### Exercício 07 - Faça um programa que leia 5 números e informe o maior número."
   ]
  },
  {
   "cell_type": "code",
   "execution_count": null,
   "metadata": {},
   "outputs": [],
   "source": [
    "# Funções built-in \n",
    "# SUM / MAX / MIN / LEN\n",
    "\n",
    "listaControle = range(1,6)\n",
    "\n",
    "# Lista Vazia\n",
    "numeros = []\n",
    "\n",
    "for i in listaControle:\n",
    "    num = int(input('Digite um valor'))\n",
    "    numeros.append(num)\n",
    "max(numeros) # Substitui o print, com esse comando já será informado o maior valor"
   ]
  },
  {
   "cell_type": "markdown",
   "metadata": {},
   "source": [
    "### Exercício 08 - Faça um programa que leia 5 números e informe a soma e a média dos\n",
    "números."
   ]
  },
  {
   "cell_type": "code",
   "execution_count": null,
   "metadata": {},
   "outputs": [],
   "source": [
    "listaNum = range(1,6)\n",
    "listaFinal = []\n",
    "for i in listaNum:\n",
    "    num = int(input('Digite um valor'))\n",
    "    listaFinal.append(num)\n",
    "soma = sum(listaFinal) # Faz a soma dos dados da lista\n",
    "quantidade = len(listaFinal) # Função len informa a quantidade de elementos dentro da lista\n",
    "media = soma / quantidade # Média é a soma dividido pela quantidade, foram criadas variáveis para soma e quantidade\n",
    "\n",
    "print(soma)\n",
    "print(media)\n",
    "\n",
    "\n"
   ]
  },
  {
   "cell_type": "markdown",
   "metadata": {},
   "source": [
    "### Exercício 09 - Faça um programa que imprima na tela apenas os números ímpares\n",
    "entre 1 e 50."
   ]
  },
  {
   "cell_type": "code",
   "execution_count": null,
   "metadata": {},
   "outputs": [],
   "source": [
    "#Se n é um número inteiro tal que n ÷ 2 = p (também um número inteiro), então n é par. Caso contrário, n é ímpar1.\n",
    "\n",
    "numeros = range(1,51)\n",
    "\n",
    "for i in numeros:\n",
    "    if i % 2 != 0: # Se o resto for diferente de 0, o número é impar.\n",
    "        print(i)\n"
   ]
  },
  {
   "cell_type": "markdown",
   "metadata": {},
   "source": [
    "### Exercício 10 - Faça um programa que receba dois números inteiros e gere os números\n",
    "inteiros que estão no intervalo compreendido por eles."
   ]
  },
  {
   "cell_type": "code",
   "execution_count": null,
   "metadata": {},
   "outputs": [],
   "source": [
    "menorNumero = int(input('informe o menor número'))\n",
    "maiorNumero = int(input('informe o maior número'))\n",
    "numeros = range(menorNumero, maiorNumero + 1)\n",
    "lista = []\n",
    "\n",
    "for i in numeros: \n",
    "    lista.append(i)\n",
    "print(lista)\n"
   ]
  },
  {
   "cell_type": "markdown",
   "metadata": {},
   "source": [
    "### Exercício 11 - Altere o programa anterior para mostrar no final a soma dos números."
   ]
  },
  {
   "cell_type": "code",
   "execution_count": null,
   "metadata": {},
   "outputs": [],
   "source": [
    "menorNumero = int(input('informe o menor número'))\n",
    "maiorNumero = int(input('informe o maior número'))\n",
    "numeros = range(menorNumero, maiorNumero + 1)\n",
    "lista = []\n",
    "\n",
    "for i in numeros: \n",
    "    lista.append(i)\n",
    "sum(lista)\n",
    "\n",
    "# menorNumero = int(input('informe o menor número'))\n",
    "# maiorNumero = int(input('informe o maior número'))\n",
    "# numeros = range(menorNumero, maiorNumero + 1)\n",
    "# soma = 0\n",
    "# for i in numeros: \n",
    "    #soma += i\n",
    "    #print('Valor da variável i = ', i)\n",
    "    #print('Valor da variável soma = ', soma)"
   ]
  },
  {
   "cell_type": "markdown",
   "metadata": {},
   "source": [
    "### Exercício 12 - Desenvolva um gerador de tabuada, capaz de gerar a tabuada de\n",
    "qualquer número inteiro entre 1 a 10. O usuário deve informar de qual numero ele deseja\n",
    "ver a tabuada. A saída deve ser conforme o exemplo abaixo:"
   ]
  },
  {
   "cell_type": "code",
   "execution_count": null,
   "metadata": {},
   "outputs": [],
   "source": [
    "num=int(input('Informe o número '))\n",
    "\n",
    "print(f'Tabuada do Número {num}')\n",
    "\n",
    "for i in range (11):\n",
    "    print(f'{num} x {i} = {num*i}')"
   ]
  },
  {
   "cell_type": "markdown",
   "metadata": {},
   "source": [
    "### LOOP WHILE"
   ]
  },
  {
   "cell_type": "code",
   "execution_count": null,
   "metadata": {},
   "outputs": [],
   "source": [
    "i = 1 # Variável de controle - Evita o looping infinito\n",
    "soma = 0 # Variável acumuladora\n",
    "\n",
    "while i <= 10:\n",
    "    i += 1\n",
    "    soma += 1\n",
    "    print(soma)\n"
   ]
  }
 ],
 "metadata": {
  "kernelspec": {
   "display_name": "Python 3",
   "language": "python",
   "name": "python3"
  },
  "language_info": {
   "codemirror_mode": {
    "name": "ipython",
    "version": 3
   },
   "file_extension": ".py",
   "mimetype": "text/x-python",
   "name": "python",
   "nbconvert_exporter": "python",
   "pygments_lexer": "ipython3",
   "version": "3.11.0"
  }
 },
 "nbformat": 4,
 "nbformat_minor": 2
}
