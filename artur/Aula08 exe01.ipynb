{
 "cells": [
  {
   "cell_type": "markdown",
   "metadata": {},
   "source": [
    "### Exercício 01 – Operações com Pandas\n",
    "a) Abra o arquivo World Happiness.\n",
    "b) Qual a média do score_felicidade?\n",
    "c) Qual a soma do PIB?\n",
    "d) Qual a soma do freedom e corrupção?\n",
    "e) Há dados duplicados? Quantos? Verifique quais são eles?\n",
    "f) Verifique a quantidade de dados faltantes.\n",
    "g) Crie um dataframe onde os valores faltantes de score_felicidade sejam\n",
    "substituídos por -9999.\n",
    "h) Quantas e quais são as regiões existentes nos dados?\n",
    "i) Verifique a frequência dos dados segundo suas regiões. Qual a região com maior\n",
    "quantidade de dados? E a região com a menor quantidade?"
   ]
  },
  {
   "cell_type": "code",
   "execution_count": 36,
   "metadata": {},
   "outputs": [],
   "source": [
    "import pandas as pd\n",
    "caminho = './Arquivos/world_happiness_report_2015.csv'\n",
    "df = pd.read_csv(caminho)\n",
    "\n"
   ]
  },
  {
   "cell_type": "code",
   "execution_count": 37,
   "metadata": {},
   "outputs": [
    {
     "data": {
      "text/html": [
       "<div>\n",
       "<style scoped>\n",
       "    .dataframe tbody tr th:only-of-type {\n",
       "        vertical-align: middle;\n",
       "    }\n",
       "\n",
       "    .dataframe tbody tr th {\n",
       "        vertical-align: top;\n",
       "    }\n",
       "\n",
       "    .dataframe thead th {\n",
       "        text-align: right;\n",
       "    }\n",
       "</style>\n",
       "<table border=\"1\" class=\"dataframe\">\n",
       "  <thead>\n",
       "    <tr style=\"text-align: right;\">\n",
       "      <th></th>\n",
       "      <th>country</th>\n",
       "      <th>region</th>\n",
       "      <th>happiness rank</th>\n",
       "      <th>happiness score</th>\n",
       "      <th>standard error</th>\n",
       "      <th>economy (GDP per Capita)</th>\n",
       "      <th>family</th>\n",
       "      <th>health (Life Expectancy)</th>\n",
       "      <th>freedom</th>\n",
       "      <th>trust (Government Corruption)</th>\n",
       "      <th>generosity</th>\n",
       "      <th>dystopia residual</th>\n",
       "    </tr>\n",
       "  </thead>\n",
       "  <tbody>\n",
       "    <tr>\n",
       "      <th>0</th>\n",
       "      <td>Switzerland</td>\n",
       "      <td>Western Europe</td>\n",
       "      <td>1</td>\n",
       "      <td>7.587</td>\n",
       "      <td>0.03411</td>\n",
       "      <td>1.39651</td>\n",
       "      <td>1.34951</td>\n",
       "      <td>0.94143</td>\n",
       "      <td>0.66557</td>\n",
       "      <td>0.41978</td>\n",
       "      <td>0.29678</td>\n",
       "      <td>2.51738</td>\n",
       "    </tr>\n",
       "    <tr>\n",
       "      <th>1</th>\n",
       "      <td>Iceland</td>\n",
       "      <td>Western Europe</td>\n",
       "      <td>2</td>\n",
       "      <td>7.561</td>\n",
       "      <td>0.04884</td>\n",
       "      <td>1.30232</td>\n",
       "      <td>1.40223</td>\n",
       "      <td>0.94784</td>\n",
       "      <td>0.62877</td>\n",
       "      <td>0.14145</td>\n",
       "      <td>0.43630</td>\n",
       "      <td>2.70201</td>\n",
       "    </tr>\n",
       "  </tbody>\n",
       "</table>\n",
       "</div>"
      ],
      "text/plain": [
       "       country          region  happiness rank  happiness score  \\\n",
       "0  Switzerland  Western Europe               1            7.587   \n",
       "1      Iceland  Western Europe               2            7.561   \n",
       "\n",
       "   standard error  economy (GDP per Capita)   family  \\\n",
       "0         0.03411                   1.39651  1.34951   \n",
       "1         0.04884                   1.30232  1.40223   \n",
       "\n",
       "   health (Life Expectancy)  freedom  trust (Government Corruption)  \\\n",
       "0                   0.94143  0.66557                        0.41978   \n",
       "1                   0.94784  0.62877                        0.14145   \n",
       "\n",
       "   generosity  dystopia residual  \n",
       "0     0.29678            2.51738  \n",
       "1     0.43630            2.70201  "
      ]
     },
     "execution_count": 37,
     "metadata": {},
     "output_type": "execute_result"
    }
   ],
   "source": [
    "df.head(2)"
   ]
  },
  {
   "cell_type": "code",
   "execution_count": 38,
   "metadata": {},
   "outputs": [
    {
     "name": "stdout",
     "output_type": "stream",
     "text": [
      "A média é 5.42\n"
     ]
    }
   ],
   "source": [
    "# Calculando a média da coluna selecionada\n",
    "mediaFelicidade = df['happiness score'].mean() # Coloco na variável para chamar no print\n",
    "print(f'A média é{mediaFelicidade: .2f}') # Esse comando é usado para tratar a informação com 2 casas decimais"
   ]
  },
  {
   "cell_type": "code",
   "execution_count": 39,
   "metadata": {},
   "outputs": [
    {
     "data": {
      "text/plain": [
       "141.37172"
      ]
     },
     "execution_count": 39,
     "metadata": {},
     "output_type": "execute_result"
    }
   ],
   "source": [
    "df['economy (GDP per Capita)'].sum()"
   ]
  },
  {
   "cell_type": "code",
   "execution_count": 40,
   "metadata": {},
   "outputs": [
    {
     "data": {
      "text/plain": [
       "freedom                          71.33320\n",
       "trust (Government Corruption)    24.59645\n",
       "dtype: float64"
      ]
     },
     "execution_count": 40,
     "metadata": {},
     "output_type": "execute_result"
    }
   ],
   "source": [
    "df[['freedom','trust (Government Corruption)']].sum()\n"
   ]
  },
  {
   "cell_type": "code",
   "execution_count": 41,
   "metadata": {},
   "outputs": [
    {
     "data": {
      "text/plain": [
       "6"
      ]
     },
     "execution_count": 41,
     "metadata": {},
     "output_type": "execute_result"
    }
   ],
   "source": [
    "# Contar o número de registros duplicados na tabela\n",
    "df.duplicated().sum()\n"
   ]
  },
  {
   "cell_type": "code",
   "execution_count": 42,
   "metadata": {},
   "outputs": [
    {
     "data": {
      "text/html": [
       "<div>\n",
       "<style scoped>\n",
       "    .dataframe tbody tr th:only-of-type {\n",
       "        vertical-align: middle;\n",
       "    }\n",
       "\n",
       "    .dataframe tbody tr th {\n",
       "        vertical-align: top;\n",
       "    }\n",
       "\n",
       "    .dataframe thead th {\n",
       "        text-align: right;\n",
       "    }\n",
       "</style>\n",
       "<table border=\"1\" class=\"dataframe\">\n",
       "  <thead>\n",
       "    <tr style=\"text-align: right;\">\n",
       "      <th></th>\n",
       "      <th>country</th>\n",
       "      <th>region</th>\n",
       "      <th>happiness rank</th>\n",
       "      <th>happiness score</th>\n",
       "      <th>standard error</th>\n",
       "      <th>economy (GDP per Capita)</th>\n",
       "      <th>family</th>\n",
       "      <th>health (Life Expectancy)</th>\n",
       "      <th>freedom</th>\n",
       "      <th>trust (Government Corruption)</th>\n",
       "      <th>generosity</th>\n",
       "      <th>dystopia residual</th>\n",
       "    </tr>\n",
       "  </thead>\n",
       "  <tbody>\n",
       "    <tr>\n",
       "      <th>11</th>\n",
       "      <td>Canada</td>\n",
       "      <td>North America</td>\n",
       "      <td>5</td>\n",
       "      <td>7.427</td>\n",
       "      <td>0.03553</td>\n",
       "      <td>1.32629</td>\n",
       "      <td>1.32261</td>\n",
       "      <td>0.90563</td>\n",
       "      <td>0.63297</td>\n",
       "      <td>0.32957</td>\n",
       "      <td>0.45811</td>\n",
       "      <td>2.45176</td>\n",
       "    </tr>\n",
       "    <tr>\n",
       "      <th>12</th>\n",
       "      <td>Finland</td>\n",
       "      <td>Western Europe</td>\n",
       "      <td>6</td>\n",
       "      <td>7.406</td>\n",
       "      <td>0.03140</td>\n",
       "      <td>1.29025</td>\n",
       "      <td>1.31826</td>\n",
       "      <td>0.88911</td>\n",
       "      <td>0.64169</td>\n",
       "      <td>0.41372</td>\n",
       "      <td>0.23351</td>\n",
       "      <td>2.61955</td>\n",
       "    </tr>\n",
       "    <tr>\n",
       "      <th>13</th>\n",
       "      <td>Netherlands</td>\n",
       "      <td>Western Europe</td>\n",
       "      <td>7</td>\n",
       "      <td>7.378</td>\n",
       "      <td>0.02799</td>\n",
       "      <td>1.32944</td>\n",
       "      <td>1.28017</td>\n",
       "      <td>0.89284</td>\n",
       "      <td>0.61576</td>\n",
       "      <td>0.31814</td>\n",
       "      <td>0.47610</td>\n",
       "      <td>2.46570</td>\n",
       "    </tr>\n",
       "    <tr>\n",
       "      <th>14</th>\n",
       "      <td>Sweden</td>\n",
       "      <td>Western Europe</td>\n",
       "      <td>8</td>\n",
       "      <td>7.364</td>\n",
       "      <td>0.03157</td>\n",
       "      <td>1.33171</td>\n",
       "      <td>1.28907</td>\n",
       "      <td>0.91087</td>\n",
       "      <td>0.65980</td>\n",
       "      <td>0.43844</td>\n",
       "      <td>0.36262</td>\n",
       "      <td>2.37119</td>\n",
       "    </tr>\n",
       "    <tr>\n",
       "      <th>34</th>\n",
       "      <td>Oman</td>\n",
       "      <td>Middle East and Northern Africa</td>\n",
       "      <td>22</td>\n",
       "      <td>6.853</td>\n",
       "      <td>0.05335</td>\n",
       "      <td>1.36011</td>\n",
       "      <td>1.08182</td>\n",
       "      <td>0.76276</td>\n",
       "      <td>0.63274</td>\n",
       "      <td>0.32524</td>\n",
       "      <td>0.21542</td>\n",
       "      <td>2.47489</td>\n",
       "    </tr>\n",
       "    <tr>\n",
       "      <th>35</th>\n",
       "      <td>Venezuela</td>\n",
       "      <td>Latin America and Caribbean</td>\n",
       "      <td>23</td>\n",
       "      <td>6.810</td>\n",
       "      <td>0.06476</td>\n",
       "      <td>1.04424</td>\n",
       "      <td>1.25596</td>\n",
       "      <td>0.72052</td>\n",
       "      <td>0.42908</td>\n",
       "      <td>0.11069</td>\n",
       "      <td>0.05841</td>\n",
       "      <td>3.19131</td>\n",
       "    </tr>\n",
       "  </tbody>\n",
       "</table>\n",
       "</div>"
      ],
      "text/plain": [
       "        country                           region  happiness rank  \\\n",
       "11       Canada                    North America               5   \n",
       "12      Finland                   Western Europe               6   \n",
       "13  Netherlands                   Western Europe               7   \n",
       "14       Sweden                   Western Europe               8   \n",
       "34         Oman  Middle East and Northern Africa              22   \n",
       "35    Venezuela      Latin America and Caribbean              23   \n",
       "\n",
       "    happiness score  standard error  economy (GDP per Capita)   family  \\\n",
       "11            7.427         0.03553                   1.32629  1.32261   \n",
       "12            7.406         0.03140                   1.29025  1.31826   \n",
       "13            7.378         0.02799                   1.32944  1.28017   \n",
       "14            7.364         0.03157                   1.33171  1.28907   \n",
       "34            6.853         0.05335                   1.36011  1.08182   \n",
       "35            6.810         0.06476                   1.04424  1.25596   \n",
       "\n",
       "    health (Life Expectancy)  freedom  trust (Government Corruption)  \\\n",
       "11                   0.90563  0.63297                        0.32957   \n",
       "12                   0.88911  0.64169                        0.41372   \n",
       "13                   0.89284  0.61576                        0.31814   \n",
       "14                   0.91087  0.65980                        0.43844   \n",
       "34                   0.76276  0.63274                        0.32524   \n",
       "35                   0.72052  0.42908                        0.11069   \n",
       "\n",
       "    generosity  dystopia residual  \n",
       "11     0.45811            2.45176  \n",
       "12     0.23351            2.61955  \n",
       "13     0.47610            2.46570  \n",
       "14     0.36262            2.37119  \n",
       "34     0.21542            2.47489  \n",
       "35     0.05841            3.19131  "
      ]
     },
     "execution_count": 42,
     "metadata": {},
     "output_type": "execute_result"
    }
   ],
   "source": [
    "# Filtrar os registros que estão duplicados na tabela\n",
    "df[df.duplicated() == True]"
   ]
  },
  {
   "cell_type": "markdown",
   "metadata": {},
   "source": [
    "### Verifique a quantidade de dados faltantes"
   ]
  },
  {
   "cell_type": "code",
   "execution_count": 45,
   "metadata": {},
   "outputs": [
    {
     "data": {
      "text/plain": [
       "country                           0\n",
       "region                            0\n",
       "happiness rank                    0\n",
       "happiness score                   8\n",
       "standard error                    1\n",
       "economy (GDP per Capita)          0\n",
       "family                            0\n",
       "health (Life Expectancy)          0\n",
       "freedom                           0\n",
       "trust (Government Corruption)     0\n",
       "generosity                        0\n",
       "dystopia residual                14\n",
       "dtype: int64"
      ]
     },
     "execution_count": 45,
     "metadata": {},
     "output_type": "execute_result"
    }
   ],
   "source": [
    "# Verificar a quantidade de dados faltantes\n",
    "\n",
    "df.isna().sum()"
   ]
  },
  {
   "cell_type": "markdown",
   "metadata": {},
   "source": [
    "### Crie um dataframe onde valores sejam substituídos\n"
   ]
  },
  {
   "cell_type": "code",
   "execution_count": 46,
   "metadata": {},
   "outputs": [],
   "source": [
    "# Comando ele substitui um valor para um valor que foi definido\n",
    "\n",
    "df = df.fillna(-9999)"
   ]
  }
 ],
 "metadata": {
  "kernelspec": {
   "display_name": "Python 3",
   "language": "python",
   "name": "python3"
  },
  "language_info": {
   "codemirror_mode": {
    "name": "ipython",
    "version": 3
   },
   "file_extension": ".py",
   "mimetype": "text/x-python",
   "name": "python",
   "nbconvert_exporter": "python",
   "pygments_lexer": "ipython3",
   "version": "3.11.0"
  }
 },
 "nbformat": 4,
 "nbformat_minor": 2
}
