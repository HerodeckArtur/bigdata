{
 "cells": [
  {
   "cell_type": "markdown",
   "metadata": {},
   "source": [
    "Lista de exercícios 02 - Estrutura de decisão."
   ]
  },
  {
   "cell_type": "markdown",
   "metadata": {},
   "source": [
    "Exercício 03 - Crie duas variáveis, \"nota1\" e \"nota2\", e atribua valores numéricos a elas.\n",
    "Verifique se a média das notas é maior ou igual a 7 e imprima \"Aprovado\" ou\n",
    "\"Reprovado\" de acordo com a condição."
   ]
  },
  {
   "cell_type": "code",
   "execution_count": 11,
   "metadata": {},
   "outputs": [
    {
     "name": "stdout",
     "output_type": "stream",
     "text": [
      "Aprovado\n"
     ]
    }
   ],
   "source": [
    "# nota1 = float(input('Digite a primeira nota.'))\n",
    "# nota2 = float(input('Digite a segunda nota.'))\n",
    "nota1 = 8\n",
    "nota2 = 8\n",
    "\n",
    "media = (nota1 + nota2) / 2\n",
    "\n",
    "#mediaNota = soma / 2\n",
    "\n",
    "if media >= 7:\n",
    "    print('Aprovado')\n",
    "else:\n",
    "    print('Reprovado')\n"
   ]
  },
  {
   "cell_type": "markdown",
   "metadata": {},
   "source": [
    "Exercício 04 - Crie uma variável chamada \"idade\" e atribua um valor inteiro a ela.\n",
    "Verifique se a idade está dentro do intervalo de 18 a 30 (inclusive) e imprima a\n",
    "mensagem \"Idade válida\" ou \"Idade inválida\" de acordo com a condição."
   ]
  },
  {
   "cell_type": "code",
   "execution_count": 18,
   "metadata": {},
   "outputs": [
    {
     "name": "stdout",
     "output_type": "stream",
     "text": [
      "Idade inválida\n"
     ]
    }
   ],
   "source": [
    "idade = int(input('Digite sua idade.'))\n",
    "\n",
    "if idade >= 18 and idade <= 30:\n",
    "    print('Idade válida')\n",
    "else:\n",
    "    print('Idade inválida')"
   ]
  },
  {
   "cell_type": "markdown",
   "metadata": {},
   "source": [
    "Exercício 05 - Crie uma variável chamada \"numero\" e atribua um valor inteiro a ela.\n",
    "Verifique se o número é par ou ímpar e imprima a mensagem correspondente."
   ]
  },
  {
   "cell_type": "code",
   "execution_count": 38,
   "metadata": {},
   "outputs": [
    {
     "name": "stdout",
     "output_type": "stream",
     "text": [
      "Número impar\n"
     ]
    }
   ],
   "source": [
    "numero = int(input('Informe um número inteiro'))\n",
    "resultado = numero % 2\n",
    "\n",
    "if resultado == 0:\n",
    "    print('Número Par')\n",
    "else: \n",
    "    print('Número impar')"
   ]
  },
  {
   "cell_type": "markdown",
   "metadata": {},
   "source": [
    "Exercício 06 - Crie uma variável chamada \"horario\" e atribua um valor inteiro\n",
    "representando a hora do dia (em formato 24 horas). Verifique se o horário está dentro\n",
    "do período da manhã (das 6h às 12h), da tarde (das 12h às 18h) ou da noite (das 18h\n",
    "às 23h) e imprima a mensagem correspondente."
   ]
  },
  {
   "cell_type": "code",
   "execution_count": 67,
   "metadata": {},
   "outputs": [
    {
     "name": "stdout",
     "output_type": "stream",
     "text": [
      "Noite\n"
     ]
    }
   ],
   "source": [
    "horario = float(input('Informe o horário'))\n",
    "\n",
    "if horario >= 6 and horario < 12:\n",
    "    print('Manhã')\n",
    "elif horario >= 12 and horario < 18:\n",
    "    print('Tarde')\n",
    "else:\n",
    "    print('Noite')\n"
   ]
  },
  {
   "cell_type": "markdown",
   "metadata": {},
   "source": [
    "Exercício 07 - Crie uma variável chamada \"peso\" e atribua um valor numérico a ela.\n",
    "Verifique se o peso está dentro do intervalo de 50 a 100 (inclusive) e imprima a\n",
    "mensagem \"Peso válido\" ou \"Peso inválido\" de acordo com a condição."
   ]
  },
  {
   "cell_type": "code",
   "execution_count": 51,
   "metadata": {},
   "outputs": [
    {
     "name": "stdout",
     "output_type": "stream",
     "text": [
      "Peso inválido\n"
     ]
    }
   ],
   "source": [
    "peso = float(input('Informe o peso.'))\n",
    "\n",
    "if peso >= 50 and peso <= 100:\n",
    "    print('Peso Válido')\n",
    "else:\n",
    "    print('Peso inválido')\n"
   ]
  },
  {
   "cell_type": "markdown",
   "metadata": {},
   "source": [
    "Exercício 08 - Crie uma variável chamada \"numero\" e atribua um valor inteiro a ela.\n",
    "Verifique se o número é múltiplo de 3 e de 5 ao mesmo tempo e imprima a mensagem\n",
    "correspondente."
   ]
  },
  {
   "cell_type": "code",
   "execution_count": 72,
   "metadata": {},
   "outputs": [
    {
     "name": "stdout",
     "output_type": "stream",
     "text": [
      "Esse número é múltiplo de 3 e 5\n"
     ]
    }
   ],
   "source": [
    "#if (numero % 3 == 0) and (numero % 5 == 0):\n",
    "\n",
    "numero = int(input('Digite um número inteiro'))\n",
    "numeroM3 = numero % 3\n",
    "numeroM5 = numero % 5\n",
    "\n",
    "if numeroM3 == 0 and numeroM5 == 0:\n",
    "    print('Esse número é múltiplo de 3 e 5')\n",
    "else:\n",
    "    print('Esse número não é válido')"
   ]
  },
  {
   "cell_type": "markdown",
   "metadata": {},
   "source": [
    "Exercício 09 - Crie uma variável chamada \"ano\" e atribua um valor inteiro\n",
    "representando um ano. Verifique se o ano é bissexto (divisível por 4, mas não por 100,\n",
    "exceto se for divisível por 400) e imprima a mensagem correspondente."
   ]
  },
  {
   "cell_type": "code",
   "execution_count": 75,
   "metadata": {},
   "outputs": [
    {
     "name": "stdout",
     "output_type": "stream",
     "text": [
      "Ano Bissexto\n"
     ]
    }
   ],
   "source": [
    "ano = int(input('informe o ano'))\n",
    "\n",
    "if (ano % 4 == 0 and ano % 100 != 0) or (ano % 400 == 0):\n",
    "    print('Ano Bissexto')\n",
    "else:\n",
    "    print('Não é ano bissexto')\n",
    "\n"
   ]
  },
  {
   "cell_type": "markdown",
   "metadata": {},
   "source": [
    "Exercício 15 - Faça um programa para a leitura de duas notas parciais de um aluno. O\n",
    "programa deve calcular a média alcançada por aluno e apresentar:\n",
    "• A mensagem \"Aprovado\", se a média alcançada for maior ou igual a sete;\n",
    "• A mensagem \"Reprovado\", se a média for menor do que sete;\n",
    "• A mensagem \"Aprovado com Distinção\", se a média for igual a dez."
   ]
  },
  {
   "cell_type": "code",
   "execution_count": 90,
   "metadata": {},
   "outputs": [
    {
     "name": "stdout",
     "output_type": "stream",
     "text": [
      "Reprovado\n"
     ]
    }
   ],
   "source": [
    "# Receber valores\n",
    "nota1 = float(input('Informe a primeira nota'))\n",
    "nota2 = float(input('Informe a segunda nota'))\n",
    "\n",
    "# Calcular média\n",
    "mediaNota = (nota1 + nota2) / 2 \n",
    "\n",
    "if mediaNota >= 7 and mediaNota < 10:\n",
    "    print('Aprovado')\n",
    "elif mediaNota > 7:\n",
    "    print('Reprovado')\n",
    "elif mediaNota == 10:\n",
    "    print('Aprovado com Distinção') \n",
    "\n",
    "# if mediaNota == 10:\n",
    "#     print('aprovado com louvor')\n",
    "# elif mediaNota >= 7:\n",
    "#     print('aprovado')\n",
    "# elif mediaNota < 7:\n",
    "#     print('Reprovado')"
   ]
  },
  {
   "cell_type": "markdown",
   "metadata": {},
   "source": [
    "Exercício 16 - Faça um Programa que leia três números e mostre o maior deles."
   ]
  },
  {
   "cell_type": "code",
   "execution_count": 103,
   "metadata": {},
   "outputs": [
    {
     "name": "stdout",
     "output_type": "stream",
     "text": [
      "12.0\n"
     ]
    }
   ],
   "source": [
    "nu1 = float(input('Digite um número'))\n",
    "nu2 = float(input('Digite um número'))\n",
    "nu3 = float(input('Digite um número'))\n",
    "\n",
    "if nu1 > nu2 and nu1 > nu3:\n",
    "    print(nu1)\n",
    "elif nu2 > nu1 and nu2 > nu3:\n",
    "    print(nu2)\n",
    "elif nu3 > nu2 and nu3 > nu1:\n",
    "    print(nu3)"
   ]
  },
  {
   "cell_type": "markdown",
   "metadata": {},
   "source": [
    "Exercício 17 - Faça um Programa que leia três números e mostre o maior e o menor\n",
    "deles."
   ]
  },
  {
   "cell_type": "code",
   "execution_count": 109,
   "metadata": {},
   "outputs": [
    {
     "name": "stdout",
     "output_type": "stream",
     "text": [
      "O menor número é 12.0\n",
      "O menor número é 10.0\n"
     ]
    }
   ],
   "source": [
    "nu1 = float(input('Digite um número'))\n",
    "nu2 = float(input('Digite um número'))\n",
    "nu3 = float(input('Digite um número'))\n",
    "\n",
    "if nu1 > nu2 and nu1 > nu3:\n",
    "    print(f'O maior número é {nu1}')\n",
    "elif nu2 > nu1 and nu2 > nu3:\n",
    "    print(f'O menor número é {nu2}')\n",
    "elif nu3 > nu2 and nu3 > nu1:\n",
    "    print(f'O menor número é {nu3}')\n",
    "\n",
    "if nu1 < nu2 and nu1 < nu3:\n",
    "    print(f'O menor número é {nu1}')\n",
    "elif nu2 < nu1 and nu2 < nu3:\n",
    "    print(f'O menor número é {nu2}')\n",
    "elif nu3 < nu2 and nu3 < nu1:\n",
    "    print(f'O menor número é {nu3}')"
   ]
  },
  {
   "cell_type": "markdown",
   "metadata": {},
   "source": [
    "Exercício 18 - Faça um programa que pergunte o preço de três produtos e informe qual\n",
    "produto você deve comprar, sabendo que a decisão é sempre pelo mais barato."
   ]
  },
  {
   "cell_type": "code",
   "execution_count": 116,
   "metadata": {},
   "outputs": [
    {
     "name": "stdout",
     "output_type": "stream",
     "text": [
      "Você deve comprar o produto 3 R$8.0\n"
     ]
    }
   ],
   "source": [
    "produto1 = float(input('Digite o preço do produto 1'))\n",
    "produto2 = float(input('Digite o preço do produto 2'))\n",
    "produto3 = float(input('Digite o preço do produto 3'))\n",
    "\n",
    "if produto1 < produto2 and produto1 < produto3:\n",
    "    print(f'Você deve comprar o produto 1 R${produto1}')\n",
    "elif produto2 < produto1 and produto2 < produto3:\n",
    "    print(f'Você deve comprar o produto 2 R${produto2}')\n",
    "elif produto3 < produto2 and produto3 < produto1:\n",
    "    print(f'Você deve comprar o produto 3 R${produto3}')"
   ]
  }
 ],
 "metadata": {
  "kernelspec": {
   "display_name": "Python 3",
   "language": "python",
   "name": "python3"
  },
  "language_info": {
   "codemirror_mode": {
    "name": "ipython",
    "version": 3
   },
   "file_extension": ".py",
   "mimetype": "text/x-python",
   "name": "python",
   "nbconvert_exporter": "python",
   "pygments_lexer": "ipython3",
   "version": "3.11.0"
  }
 },
 "nbformat": 4,
 "nbformat_minor": 2
}
