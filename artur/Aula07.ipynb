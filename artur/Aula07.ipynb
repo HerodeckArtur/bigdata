{
 "cells": [
  {
   "cell_type": "markdown",
   "metadata": {},
   "source": [
    "### Importando a biblioteca do Pandas"
   ]
  },
  {
   "cell_type": "markdown",
   "metadata": {},
   "source": [
    "Exercício 03 – Manipulando dados com Pandas\n",
    "a) Crie um programa em pandas para ler o arquivo em Excel vendas.xlsx e\n",
    "b) coloque em um dataframe.\n",
    "c) Visualize o cabeçalho dos dados;\n",
    "d) Visualize as últimas linhas;\n",
    "e) Escreva um programa para renomear o cabeçalho da tabela com os\n",
    "f) seguintes nomes:\n",
    "![image.png](attachment:image.png)\n",
    "g) Quais são os tipos de dados que temos no dataframe?\n",
    "h) Há valores faltantes ou nulos?\n",
    "i) Calcule a soma, média, máximo, mínimo e contagem da coluna Preço.\n",
    "j) Crie um programa para criar um dataframe para mostrar as vendas por cargo, e\n",
    "salvar um arquivo em csv para com o nome de cada cargo:\n",
    "▪ Supervisor de Vendas Pl\n",
    "▪ Gerente Regional Jr.\n",
    "▪ Supervisor de Vendas Sr\n",
    "▪ Coordenador de Vendas Pl.\n",
    "▪ Vendedor Jr.\n",
    "▪ Vendedor Sr.\n",
    "▪ Vendedor Pl.\n",
    "▪ Gerente Regional Pl.\n",
    "▪ Coordenador de Vendas Sr.\n",
    "▪ Coordenador de Vendas Jr.\n",
    "▪ Supervisor de Vendas Jr."
   ]
  },
  {
   "cell_type": "code",
   "execution_count": 31,
   "metadata": {},
   "outputs": [
    {
     "data": {
      "text/html": [
       "<div>\n",
       "<style scoped>\n",
       "    .dataframe tbody tr th:only-of-type {\n",
       "        vertical-align: middle;\n",
       "    }\n",
       "\n",
       "    .dataframe tbody tr th {\n",
       "        vertical-align: top;\n",
       "    }\n",
       "\n",
       "    .dataframe thead th {\n",
       "        text-align: right;\n",
       "    }\n",
       "</style>\n",
       "<table border=\"1\" class=\"dataframe\">\n",
       "  <thead>\n",
       "    <tr style=\"text-align: right;\">\n",
       "      <th></th>\n",
       "      <th>Data</th>\n",
       "      <th>Vendedor</th>\n",
       "      <th>Cargo</th>\n",
       "      <th>Cliente</th>\n",
       "      <th>UF</th>\n",
       "      <th>Vendas</th>\n",
       "    </tr>\n",
       "  </thead>\n",
       "  <tbody>\n",
       "    <tr>\n",
       "      <th>0</th>\n",
       "      <td>2014-01-01</td>\n",
       "      <td>Bernardo de Sousa</td>\n",
       "      <td>Supervisor de Vendas Pl</td>\n",
       "      <td>ACME</td>\n",
       "      <td>AL</td>\n",
       "      <td>3276.20</td>\n",
       "    </tr>\n",
       "    <tr>\n",
       "      <th>1</th>\n",
       "      <td>2014-01-01</td>\n",
       "      <td>Bernardo de Sousa</td>\n",
       "      <td>Supervisor de Vendas Pl</td>\n",
       "      <td>ACME</td>\n",
       "      <td>AP</td>\n",
       "      <td>3005.86</td>\n",
       "    </tr>\n",
       "    <tr>\n",
       "      <th>2</th>\n",
       "      <td>2014-01-01</td>\n",
       "      <td>Bernardo de Sousa</td>\n",
       "      <td>Supervisor de Vendas Pl</td>\n",
       "      <td>ACME</td>\n",
       "      <td>MA</td>\n",
       "      <td>8568.54</td>\n",
       "    </tr>\n",
       "    <tr>\n",
       "      <th>3</th>\n",
       "      <td>2014-01-01</td>\n",
       "      <td>Bernardo de Sousa</td>\n",
       "      <td>Supervisor de Vendas Pl</td>\n",
       "      <td>ACME</td>\n",
       "      <td>MG</td>\n",
       "      <td>1344.27</td>\n",
       "    </tr>\n",
       "    <tr>\n",
       "      <th>4</th>\n",
       "      <td>2014-01-01</td>\n",
       "      <td>Bernardo de Sousa</td>\n",
       "      <td>Supervisor de Vendas Pl</td>\n",
       "      <td>ACME</td>\n",
       "      <td>MS</td>\n",
       "      <td>7585.04</td>\n",
       "    </tr>\n",
       "  </tbody>\n",
       "</table>\n",
       "</div>"
      ],
      "text/plain": [
       "        Data           Vendedor                    Cargo Cliente  UF   Vendas\n",
       "0 2014-01-01  Bernardo de Sousa  Supervisor de Vendas Pl    ACME  AL  3276.20\n",
       "1 2014-01-01  Bernardo de Sousa  Supervisor de Vendas Pl    ACME  AP  3005.86\n",
       "2 2014-01-01  Bernardo de Sousa  Supervisor de Vendas Pl    ACME  MA  8568.54\n",
       "3 2014-01-01  Bernardo de Sousa  Supervisor de Vendas Pl    ACME  MG  1344.27\n",
       "4 2014-01-01  Bernardo de Sousa  Supervisor de Vendas Pl    ACME  MS  7585.04"
      ]
     },
     "execution_count": 31,
     "metadata": {},
     "output_type": "execute_result"
    }
   ],
   "source": [
    "# Importando a biblioteca do Pandas\n",
    "# Mapear o caminho e o nome do documento\n",
    "# Atribuir os dados a um dataframe\n",
    "# Visualizar o cabeçalho\n",
    "\n",
    "import pandas as pd\n",
    "\n",
    "#caminho = \"C:\\\\Users\\\\FIC\\\\Documents\\\\ArturHerodeck-python\\\\Arquivos\\\\Vendas.xlsx\" ---> Caminho externo\n",
    "\n",
    "caminho = '../ArturHerodeck-python/Arquivos/Vendas.xlsx' # ---> Caminho interno no vscode\n",
    "df = pd.read_excel(caminho, sheet_name='Planilha1') # ---> Só especificar a planilha se tiver mais de uma no arquivo  \n",
    "\n",
    "\n",
    "df.columns = ['Data', 'Vendedor', 'Cargo','Cliente','UF','Vendas']\n",
    "\n",
    "df.head()"
   ]
  },
  {
   "cell_type": "code",
   "execution_count": 32,
   "metadata": {},
   "outputs": [
    {
     "name": "stdout",
     "output_type": "stream",
     "text": [
      "<class 'pandas.core.frame.DataFrame'>\n",
      "RangeIndex: 130466 entries, 0 to 130465\n",
      "Data columns (total 6 columns):\n",
      " #   Column    Non-Null Count   Dtype         \n",
      "---  ------    --------------   -----         \n",
      " 0   Data      130466 non-null  datetime64[ns]\n",
      " 1   Vendedor  130466 non-null  object        \n",
      " 2   Cargo     130466 non-null  object        \n",
      " 3   Cliente   130466 non-null  object        \n",
      " 4   UF        130466 non-null  object        \n",
      " 5   Vendas    130466 non-null  float64       \n",
      "dtypes: datetime64[ns](1), float64(1), object(4)\n",
      "memory usage: 6.0+ MB\n"
     ]
    }
   ],
   "source": [
    "df.info()"
   ]
  },
  {
   "cell_type": "code",
   "execution_count": 33,
   "metadata": {},
   "outputs": [
    {
     "name": "stdout",
     "output_type": "stream",
     "text": [
      "10000.0 1000.01 718501609.25 130466 5507.194282418408\n"
     ]
    }
   ],
   "source": [
    "a = df['Vendas'].max()\n",
    "b = df['Vendas'].min()\n",
    "c = df['Vendas'].sum()\n",
    "d = df['Vendas'].count()\n",
    "e = df['Vendas'].mean()\n",
    "\n",
    "print(a,b,c,d,e)\n"
   ]
  },
  {
   "cell_type": "markdown",
   "metadata": {},
   "source": [
    "### Filtrando dados de uma forma mais fácil "
   ]
  },
  {
   "cell_type": "code",
   "execution_count": 34,
   "metadata": {},
   "outputs": [
    {
     "data": {
      "text/plain": [
       "['Supervisor de Vendas Pl',\n",
       " 'Gerente Regional Jr.',\n",
       " 'Supervisor de Vendas Sr',\n",
       " 'Coordenador de Vendas Pl.',\n",
       " 'Vendedor Jr.',\n",
       " 'Vendedor Sr.',\n",
       " 'Vendedor Pl.',\n",
       " 'Gerente Regional Pl.',\n",
       " 'Coordenador de Vendas Sr.',\n",
       " 'Coordenador de Vendas Jr.',\n",
       " 'Supervisor de Vendas Jr.']"
      ]
     },
     "execution_count": 34,
     "metadata": {},
     "output_type": "execute_result"
    }
   ],
   "source": [
    "# Selecionar a coluna de interesse\n",
    "df_cargos = df['Cargo'].drop_duplicates()\n",
    "\n",
    "# Converter o df_cargos em lista\n",
    "cargos = df_cargos.to_list()\n",
    "cargos\n"
   ]
  },
  {
   "cell_type": "code",
   "execution_count": 35,
   "metadata": {},
   "outputs": [],
   "source": [
    "for cargo in cargos:\n",
    "    df_final = df[df['Cargo'] == cargo] # Filtra de acordo com os cargos\n",
    "    caminho = './Relatórios Exercício 3/' # Caminho da pasta\n",
    "    arquivo = cargo + '.xlsx' # Nome do arquivo\n",
    "    df_final.to_excel(caminho + arquivo) # Gerando um arquivo em excel"
   ]
  },
  {
   "cell_type": "code",
   "execution_count": 36,
   "metadata": {},
   "outputs": [
    {
     "data": {
      "text/html": [
       "<div>\n",
       "<style scoped>\n",
       "    .dataframe tbody tr th:only-of-type {\n",
       "        vertical-align: middle;\n",
       "    }\n",
       "\n",
       "    .dataframe tbody tr th {\n",
       "        vertical-align: top;\n",
       "    }\n",
       "\n",
       "    .dataframe thead th {\n",
       "        text-align: right;\n",
       "    }\n",
       "</style>\n",
       "<table border=\"1\" class=\"dataframe\">\n",
       "  <thead>\n",
       "    <tr style=\"text-align: right;\">\n",
       "      <th></th>\n",
       "      <th>Data</th>\n",
       "      <th>Vendedor</th>\n",
       "      <th>Cargo</th>\n",
       "      <th>Cliente</th>\n",
       "      <th>UF</th>\n",
       "      <th>Vendas</th>\n",
       "    </tr>\n",
       "  </thead>\n",
       "  <tbody>\n",
       "    <tr>\n",
       "      <th>0</th>\n",
       "      <td>2014-01-01</td>\n",
       "      <td>Bernardo de Sousa</td>\n",
       "      <td>Supervisor de Vendas Pl</td>\n",
       "      <td>ACME</td>\n",
       "      <td>AL</td>\n",
       "      <td>3276.2</td>\n",
       "    </tr>\n",
       "  </tbody>\n",
       "</table>\n",
       "</div>"
      ],
      "text/plain": [
       "        Data           Vendedor                    Cargo Cliente  UF  Vendas\n",
       "0 2014-01-01  Bernardo de Sousa  Supervisor de Vendas Pl    ACME  AL  3276.2"
      ]
     },
     "execution_count": 36,
     "metadata": {},
     "output_type": "execute_result"
    }
   ],
   "source": [
    "df.head(1)"
   ]
  },
  {
   "cell_type": "code",
   "execution_count": 39,
   "metadata": {},
   "outputs": [],
   "source": [
    "df_vendedores = df['Vendedor'].drop_duplicates() # Definir uma variável e tirar as duplicadas\n",
    "\n",
    "vendedores = df_vendedores.to_list() # Criar uma variável para transformar em uma lista\n",
    "\n",
    "for vendedor in vendedores: # Para vendedor na variável vendedores\n",
    "    df_final1 = df[df['Vendedor'] == vendedor] # Criando uma variável para gerar um arquivo\n",
    "    caminho = './Relatórios Exercício 3/' # Criar uma variável para informar o caminho do arquivo\n",
    "    arquivo1 = vendedor + '.xlsx' # Nome do arquivo que está vinculado a variável vendedor + a extensão para salvar\n",
    "    df_final1.to_excel(caminho + arquivo1) # Direcionar o meu arquivo para excel por exemplo e concatenando caminho mais o final da extensão"
   ]
  },
  {
   "cell_type": "code",
   "execution_count": null,
   "metadata": {},
   "outputs": [],
   "source": [
    "df_clientes = df['Cliente'].drop_duplicates() \n",
    "clientes = df_clientes.to_list() \n",
    "\n",
    "for vendedor in vendedores: \n",
    "    df_final1 = df[df['Vendedor'] == vendedor]\n",
    "    caminho = './Relatórios Exercício 3/'\n",
    "    arquivo1 = vendedor + '.xlsx' \n",
    "    df_final1.to_excel(caminho + arquivo1) "
   ]
  }
 ],
 "metadata": {
  "kernelspec": {
   "display_name": "Python 3",
   "language": "python",
   "name": "python3"
  },
  "language_info": {
   "codemirror_mode": {
    "name": "ipython",
    "version": 3
   },
   "file_extension": ".py",
   "mimetype": "text/x-python",
   "name": "python",
   "nbconvert_exporter": "python",
   "pygments_lexer": "ipython3",
   "version": "3.11.0"
  }
 },
 "nbformat": 4,
 "nbformat_minor": 2
}
