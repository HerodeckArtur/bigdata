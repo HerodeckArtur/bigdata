{
 "cells": [
  {
   "cell_type": "markdown",
   "metadata": {},
   "source": [
    "Listas\n"
   ]
  },
  {
   "cell_type": "code",
   "execution_count": 9,
   "metadata": {},
   "outputs": [
    {
     "data": {
      "text/plain": [
       "8"
      ]
     },
     "execution_count": 9,
     "metadata": {},
     "output_type": "execute_result"
    }
   ],
   "source": [
    "alunos = ['Ana', 'Amanda','Bruno', 'João']\n",
    "notas = [10,9,8,7]\n",
    "\n",
    "alunos[0]\n",
    "notas[2]\n",
    "\n",
    "# print(alunos[0]) para manter a informação"
   ]
  },
  {
   "cell_type": "markdown",
   "metadata": {},
   "source": [
    "Listas - Acessando itens"
   ]
  },
  {
   "cell_type": "code",
   "execution_count": 11,
   "metadata": {},
   "outputs": [
    {
     "data": {
      "text/plain": [
       "['Amanda', 'Bruno']"
      ]
     },
     "execution_count": 11,
     "metadata": {},
     "output_type": "execute_result"
    }
   ],
   "source": [
    "# Selecionar uma fatia dos dados (Amanda e Bruno)\n",
    "# nome da lista[posição inicial:posição final +1]\n",
    "alunos[1:3]\n",
    "\n",
    "# Selecionar apenas os nomes Bruno e João\n",
    "# Depois do sinal de dois pontos ele seleciona toda a lista\n",
    "alunos[2:]"
   ]
  },
  {
   "cell_type": "code",
   "execution_count": 16,
   "metadata": {},
   "outputs": [
    {
     "data": {
      "text/plain": [
       "int"
      ]
     },
     "execution_count": 16,
     "metadata": {},
     "output_type": "execute_result"
    }
   ],
   "source": [
    "#type(nome da lista) - identifica o tipo de dado\n",
    "type(notas)\n",
    "\n",
    "#len(nome da lista) - informa quantidade de dados na lista\n",
    "len(notas)\n",
    "\n",
    "#type(nome da lista[posição da lista])\n",
    "type(notas[0])"
   ]
  },
  {
   "cell_type": "markdown",
   "metadata": {},
   "source": [
    "Lista 04 Exercícios"
   ]
  },
  {
   "cell_type": "markdown",
   "metadata": {},
   "source": [
    "Exercício 01 - Crie uma lista com nomes de 4 times de futebol.\n",
    "\n",
    "a) Palmeiras\n",
    "b) São Paulo\n",
    "c) Santos\n",
    "d) Água Santa\n",
    "e) Acesse o time que está na 3a posição.\n",
    "f) Crie uma lista com duas listas de 3 times de futebol, cada uma de uma\n",
    "divisão diferente."
   ]
  },
  {
   "cell_type": "code",
   "execution_count": 21,
   "metadata": {},
   "outputs": [
    {
     "name": "stdout",
     "output_type": "stream",
     "text": [
      "Santos\n",
      "[['Bahia', 'Bragantino', 'Juventude'], ['Vasco', 'Vitória', 'Flamengo']]\n",
      "['Vasco', 'Vitória', 'Flamengo']\n",
      "Vitória\n"
     ]
    }
   ],
   "source": [
    "timesFutebol=['Palmeiras','São Paulo','Santos','Água Santa']\n",
    "print(timesFutebol[2])\n",
    "\n",
    "timesFutebolA=['Bahia','Bragantino','Juventude']\n",
    "timesFutebolB=['Vasco','Vitória','Flamengo']\n",
    "TimesSerieB=[timesFutebolA,timesFutebolB]\n",
    "print(TimesSerieB)\n",
    "print(TimesSerieB[1])\n",
    "print(TimesSerieB[1][1])\n",
    "\n"
   ]
  },
  {
   "cell_type": "markdown",
   "metadata": {},
   "source": [
    "Exercício 02 - Crie uma lista com 3 diferentes moedas. Acrescente mais 2\n",
    "outras moedas à essa mesma lista."
   ]
  },
  {
   "cell_type": "code",
   "execution_count": 30,
   "metadata": {},
   "outputs": [
    {
     "name": "stdout",
     "output_type": "stream",
     "text": [
      "['Peso', 'Euro', 'Dólar', 'Real']\n"
     ]
    }
   ],
   "source": [
    "# inserir dado na lista .append vai no final apenas\n",
    "# utilizando .insert(posição, 'valor inserido')\n",
    "# moeda.append('valor inserido')\n",
    "\n",
    "moeda=['Euro','Dólar','Real']\n",
    "moeda.insert(0,'Peso')\n",
    "\n",
    "print(moeda)"
   ]
  },
  {
   "cell_type": "code",
   "execution_count": 34,
   "metadata": {},
   "outputs": [
    {
     "name": "stdout",
     "output_type": "stream",
     "text": [
      "['Peso', 'Euro', 'Dólar', 'Real']\n",
      "['Peso', 'Euro', 'Dólar']\n"
     ]
    }
   ],
   "source": [
    "moeda=['Euro','Dólar','Real']\n",
    "moeda.insert(0,'Peso')\n",
    "\n",
    "print(moeda)\n",
    "\n",
    "# Para remover um item da lista\n",
    "moeda.remove('Real')\n",
    "print(moeda)"
   ]
  },
  {
   "cell_type": "code",
   "execution_count": 2,
   "metadata": {},
   "outputs": [
    {
     "name": "stdout",
     "output_type": "stream",
     "text": [
      "['Peso', 'Euro', 'Dólar', 'Real']\n",
      "Peso,Euro,Dólar,Real\n"
     ]
    }
   ],
   "source": [
    "moeda=['Euro','Dólar','Real']\n",
    "moeda.insert(0,'Peso')\n",
    "\n",
    "print(moeda)\n",
    "\n",
    "# Transformar dados em uma string ',' --> separador pode ser ; / . --> Letra e fica tudo junto\n",
    "tiposMoeda = ','.join(moeda)\n",
    "\n",
    "print(tiposMoeda)\n"
   ]
  },
  {
   "cell_type": "markdown",
   "metadata": {},
   "source": [
    "Exercício 03 - Crie uma string com a lista do exercício anterior."
   ]
  },
  {
   "cell_type": "code",
   "execution_count": 3,
   "metadata": {},
   "outputs": [
    {
     "name": "stdout",
     "output_type": "stream",
     "text": [
      "['Peso', 'Euro', 'Dólar', 'Real']\n",
      "Peso,Euro,Dólar,Real\n"
     ]
    }
   ],
   "source": [
    "moeda=['Euro','Dólar','Real']\n",
    "moeda.insert(0,'Peso')\n",
    "\n",
    "print(moeda)\n",
    "\n",
    "# Transformar dados em uma string ',' --> separador pode ser ; / . --> Letra e fica tudo junto\n",
    "tiposMoeda = ','.join(moeda)\n",
    "\n",
    "print(tiposMoeda)"
   ]
  },
  {
   "cell_type": "markdown",
   "metadata": {},
   "source": [
    "Exercício 04 - Agora utilize a string do exercício 6 para recriar uma lista."
   ]
  },
  {
   "cell_type": "code",
   "execution_count": 5,
   "metadata": {},
   "outputs": [
    {
     "name": "stdout",
     "output_type": "stream",
     "text": [
      "['Peso', 'Euro', 'Dólar', 'Real']\n",
      "Peso,Euro,Dólar,Real\n",
      "['Peso', 'Euro', 'Dólar', 'Real']\n"
     ]
    }
   ],
   "source": [
    "# comando para converter string para lista\n",
    "# variável = string.split(separador)\n",
    "\n",
    "moeda=['Euro','Dólar','Real']\n",
    "moeda.insert(0,'Peso')\n",
    "\n",
    "print(moeda)\n",
    "\n",
    "tiposMoeda = ','.join(moeda)\n",
    "\n",
    "print(tiposMoeda)\n",
    "\n",
    "tiposMoeda = tiposMoeda.split(',')\n",
    "\n",
    "print(tiposMoeda)\n",
    "\n"
   ]
  },
  {
   "cell_type": "markdown",
   "metadata": {},
   "source": [
    "Tuplas (tuple)\n",
    "\n",
    "* Criamos utilizando parênteses\n",
    "* Separamos os elementos por vírgula\n",
    "* Após sua definição, não podemos alterar sua estrutura"
   ]
  },
  {
   "cell_type": "code",
   "execution_count": 6,
   "metadata": {},
   "outputs": [
    {
     "name": "stdout",
     "output_type": "stream",
     "text": [
      "<class 'tuple'>\n",
      "<class 'tuple'>\n"
     ]
    }
   ],
   "source": [
    "valores = (90, 79, 54, 32, 21)\n",
    "pontos = (100, 94.05, 86.08, 62)\n",
    "\n",
    "print(type(valores))\n",
    "print(type(pontos))\n"
   ]
  },
  {
   "cell_type": "code",
   "execution_count": 7,
   "metadata": {},
   "outputs": [
    {
     "ename": "TypeError",
     "evalue": "'tuple' object does not support item assignment",
     "output_type": "error",
     "traceback": [
      "\u001b[1;31m---------------------------------------------------------------------------\u001b[0m",
      "\u001b[1;31mTypeError\u001b[0m                                 Traceback (most recent call last)",
      "\u001b[1;32mc:\\Users\\FIC\\Documents\\ArturHerodeck-python\\Aula04.ipynb Cell 19\u001b[0m line \u001b[0;36m1\n\u001b[1;32m----> <a href='vscode-notebook-cell:/c%3A/Users/FIC/Documents/ArturHerodeck-python/Aula04.ipynb#X26sZmlsZQ%3D%3D?line=0'>1</a>\u001b[0m valores[\u001b[39m0\u001b[39;49m] \u001b[39m=\u001b[39m \u001b[39m30\u001b[39m\n",
      "\u001b[1;31mTypeError\u001b[0m: 'tuple' object does not support item assignment"
     ]
    }
   ],
   "source": [
    "valores[0] = 30\n"
   ]
  },
  {
   "cell_type": "markdown",
   "metadata": {},
   "source": [
    "Tuplas outros exemplos\n",
    "\n"
   ]
  },
  {
   "cell_type": "code",
   "execution_count": 10,
   "metadata": {},
   "outputs": [
    {
     "name": "stdout",
     "output_type": "stream",
     "text": [
      "[10, 2]\n",
      "Não é possível modificar uma tupla\n"
     ]
    }
   ],
   "source": [
    "# Criando uma lista\n",
    "myList = [1,2] \n",
    "\n",
    "# Criando uma tupla\n",
    "myTuple = (1,2)\n",
    "\n",
    "# Alterando o elemento de posição 1 da lista\n",
    "# Listas permitem a sua alteração\n",
    "myList[0] = 10\n",
    "\n",
    "print(myList)\n",
    "\n",
    "# Alterar um elemento de uma tupla\n",
    "\n",
    "try:\n",
    "    myTuple[1] = 3\n",
    "except TypeError:\n",
    "\n",
    "    print('Não é possível modificar uma tupla')\n",
    "\n"
   ]
  },
  {
   "cell_type": "markdown",
   "metadata": {},
   "source": [
    "Criando uma função com Tupla"
   ]
  },
  {
   "cell_type": "code",
   "execution_count": 11,
   "metadata": {},
   "outputs": [],
   "source": [
    "def sum_and_product (x, y):\n",
    "    return (x + y) , (x * y)"
   ]
  },
  {
   "cell_type": "code",
   "execution_count": 12,
   "metadata": {},
   "outputs": [
    {
     "data": {
      "text/plain": [
       "(15, 50)"
      ]
     },
     "execution_count": 12,
     "metadata": {},
     "output_type": "execute_result"
    }
   ],
   "source": [
    "sum_and_product(10,5)"
   ]
  },
  {
   "cell_type": "markdown",
   "metadata": {},
   "source": [
    "Dicionários"
   ]
  },
  {
   "cell_type": "code",
   "execution_count": 16,
   "metadata": {},
   "outputs": [
    {
     "name": "stdout",
     "output_type": "stream",
     "text": [
      "<class 'dict'>\n",
      "<class 'dict'>\n",
      "1.6\n",
      "58\n"
     ]
    }
   ],
   "source": [
    "altura = {\n",
    "    'Amanda': 1.65,\n",
    "    'Ana': 1.60,\n",
    "    'João': 1.50\n",
    "}\n",
    "\n",
    "peso = {\n",
    "    'Amanda': 60,\n",
    "    'Ana': 58,\n",
    "    'João': 100\n",
    "}\n",
    "\n",
    "print(type(altura))\n",
    "print(type(peso))\n",
    "\n",
    "# Acessar informações do dicionário\n",
    "\n",
    "print(altura['Ana'])\n",
    "print(peso['Ana'])"
   ]
  },
  {
   "cell_type": "markdown",
   "metadata": {},
   "source": [
    "Exercício 05 - Crie um dicionário chamado cardápio em que as chaves são os\n",
    "dias da semana e os respectivos valores sejam os pratos do dia."
   ]
  },
  {
   "cell_type": "code",
   "execution_count": 22,
   "metadata": {},
   "outputs": [
    {
     "name": "stdout",
     "output_type": "stream",
     "text": [
      "feijoada\n"
     ]
    }
   ],
   "source": [
    "Prato_do_dia = {\n",
    "    'Segunda': ['baião', 'omelete', 'virado'],\n",
    "    'Terça': ['tropeiro', 'frango assado', 'dobradinha'],\n",
    "    'quarta': ['feijoada', 'carne ao molho', 'calabresa'],\n",
    "    'quinta': ['macarrão', 'lasanha', 'nhoque'],\n",
    "    'sexta': ['peixe', 'rabada', 'carne assada']\n",
    "}\n",
    "# Prato_do_dia['quarta'][0]\n",
    "print(Prato_do_dia['quarta'])\n"
   ]
  },
  {
   "cell_type": "markdown",
   "metadata": {},
   "source": [
    "Exercício 06 - Crie um dicionário chamado hemograma que contenha as\n",
    "seguintes chaves:valor.\n",
    "• hemacias: 4.71\n",
    "• hemoglobina: 14.1\n",
    "• hematocrito: 41.2\n",
    "• linfócitos: 38\n",
    "• monocitos: 7\n",
    "• resultado: saudável"
   ]
  },
  {
   "cell_type": "code",
   "execution_count": 21,
   "metadata": {},
   "outputs": [
    {
     "name": "stdout",
     "output_type": "stream",
     "text": [
      "{'hemacias': 4.71, 'hemoglobina': 14.1, 'hematocrito': 41.2, 'linfócitos': 38, 'monocitos': 7, 'resultado': 'saudável'}\n"
     ]
    }
   ],
   "source": [
    "hemograma = {\n",
    "    'hemacias': 4.71,\n",
    "    'hemoglobina': 14.1,\n",
    "    'hematocrito': 41.2,\n",
    "    'linfócitos': 38,\n",
    "    'monocitos': 7,\n",
    "    'resultado': 'saudável'\n",
    "}\n",
    "\n",
    "print(hemograma)"
   ]
  },
  {
   "cell_type": "markdown",
   "metadata": {},
   "source": [
    "Exercício 07 - Corrija o dicionário acima com monocitos:12."
   ]
  },
  {
   "cell_type": "code",
   "execution_count": 23,
   "metadata": {},
   "outputs": [
    {
     "name": "stdout",
     "output_type": "stream",
     "text": [
      "{'hemacias': 4.71, 'hemoglobina': 14.1, 'hematocrito': 41.2, 'linfócitos': 38, 'monocitos': 12, 'resultado': 'saudável'}\n"
     ]
    }
   ],
   "source": [
    "hemograma = {\n",
    "    'hemacias': 4.71,\n",
    "    'hemoglobina': 14.1,\n",
    "    'hematocrito': 41.2,\n",
    "    'linfócitos': 38,\n",
    "    'monocitos': 7,\n",
    "    'resultado': 'saudável'\n",
    "}\n",
    "\n",
    "# Esse código faz alteração no dicionário\n",
    "hemograma['monocitos'] = 12\n",
    "\n",
    "\n",
    "print(hemograma)"
   ]
  }
 ],
 "metadata": {
  "kernelspec": {
   "display_name": "Python 3",
   "language": "python",
   "name": "python3"
  },
  "language_info": {
   "codemirror_mode": {
    "name": "ipython",
    "version": 3
   },
   "file_extension": ".py",
   "mimetype": "text/x-python",
   "name": "python",
   "nbconvert_exporter": "python",
   "pygments_lexer": "ipython3",
   "version": "3.11.0"
  }
 },
 "nbformat": 4,
 "nbformat_minor": 2
}
